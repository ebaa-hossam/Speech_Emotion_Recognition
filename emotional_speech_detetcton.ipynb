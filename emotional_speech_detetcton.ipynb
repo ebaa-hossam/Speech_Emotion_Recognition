{
  "cells": [
    {
      "cell_type": "markdown",
      "metadata": {
        "id": "It1dHBrYUECz"
      },
      "source": [
        "**Libraries**"
      ]
    },
    {
      "cell_type": "code",
      "execution_count": null,
      "metadata": {
        "id": "qrammWj7_gUt"
      },
      "outputs": [],
      "source": [
        "import os\n",
        "from IPython.display import Audio\n",
        "import librosa\n",
        "import librosa.display as disp\n",
        "import matplotlib.pyplot as plt\n",
        "import numpy as np\n",
        "import pandas as pd\n",
        "from sklearn.preprocessing import StandardScaler\n",
        "from sklearn.model_selection import train_test_split\n",
        "from sklearn import preprocessing\n",
        "from tqdm import tqdm, tqdm_pandas\n",
        "import seaborn as sns\n",
        "import itertools\n",
        "from keras import regularizers\n",
        "\n",
        "import keras\n",
        "import tensorflow as tf\n",
        "import tensorflow.keras.layers as L\n",
        "from tensorflow.keras.models import Sequential\n",
        "from tensorflow.keras.layers import Dense, Dropout, Flatten, Activation, Conv2D, MaxPooling2D, BatchNormalization, Conv1D , MaxPooling1D"
      ]
    },
    {
      "cell_type": "markdown",
      "metadata": {
        "id": "Me7MMxaFV9Zw"
      },
      "source": [
        "**Data Set**"
      ]
    },
    {
      "cell_type": "code",
      "execution_count": null,
      "metadata": {
        "colab": {
          "base_uri": "https://localhost:8080/"
        },
        "id": "eMRlsbChhPwx",
        "outputId": "c118a07d-e995-44dd-a670-5afa5e93fbcb"
      },
      "outputs": [
        {
          "name": "stdout",
          "output_type": "stream",
          "text": [
            "Mounted at /content/drive\n"
          ]
        }
      ],
      "source": [
        "from google.colab import drive\n",
        "drive.mount('/content/drive')"
      ]
    },
    {
      "cell_type": "code",
      "execution_count": null,
      "metadata": {
        "id": "V6dcRNWYX-7S"
      },
      "outputs": [],
      "source": [
        "path = \"/content/drive/My Drive/Crema/\"\n",
        "\n",
        "def load_data(path):\n",
        "    f_emotions = []\n",
        "    f_pathes = []\n",
        "\n",
        "    files = os.listdir(path)\n",
        "    for file in files:\n",
        "        step = file.split('.')[0]\n",
        "        step = step.split('_')[2]\n",
        "        f_emotions.append(step)\n",
        "        f_pathes.append(path + file)\n",
        "    return [f_emotions,f_pathes]"
      ]
    },
    {
      "cell_type": "code",
      "execution_count": null,
      "metadata": {
        "colab": {
          "base_uri": "https://localhost:8080/",
          "height": 206
        },
        "id": "I9UyNjSkbUWs",
        "outputId": "b3ae7421-7d1d-4abc-e687-cd539724af8a"
      },
      "outputs": [
        {
          "data": {
            "text/html": [
              "\n",
              "  <div id=\"df-12e30eb9-3fd9-46ad-b894-979966582cc5\">\n",
              "    <div class=\"colab-df-container\">\n",
              "      <div>\n",
              "<style scoped>\n",
              "    .dataframe tbody tr th:only-of-type {\n",
              "        vertical-align: middle;\n",
              "    }\n",
              "\n",
              "    .dataframe tbody tr th {\n",
              "        vertical-align: top;\n",
              "    }\n",
              "\n",
              "    .dataframe thead th {\n",
              "        text-align: right;\n",
              "    }\n",
              "</style>\n",
              "<table border=\"1\" class=\"dataframe\">\n",
              "  <thead>\n",
              "    <tr style=\"text-align: right;\">\n",
              "      <th></th>\n",
              "      <th>Emotion</th>\n",
              "      <th>Path</th>\n",
              "    </tr>\n",
              "  </thead>\n",
              "  <tbody>\n",
              "    <tr>\n",
              "      <th>0</th>\n",
              "      <td>sad</td>\n",
              "      <td>/content/drive/My Drive/Crema/1079_IEO_SAD_LO.wav</td>\n",
              "    </tr>\n",
              "    <tr>\n",
              "      <th>1</th>\n",
              "      <td>angry</td>\n",
              "      <td>/content/drive/My Drive/Crema/1079_IEO_ANG_MD.wav</td>\n",
              "    </tr>\n",
              "    <tr>\n",
              "      <th>2</th>\n",
              "      <td>happy</td>\n",
              "      <td>/content/drive/My Drive/Crema/1079_IWW_HAP_XX.wav</td>\n",
              "    </tr>\n",
              "    <tr>\n",
              "      <th>3</th>\n",
              "      <td>sad</td>\n",
              "      <td>/content/drive/My Drive/Crema/1080_IOM_SAD_XX.wav</td>\n",
              "    </tr>\n",
              "    <tr>\n",
              "      <th>4</th>\n",
              "      <td>sad</td>\n",
              "      <td>/content/drive/My Drive/Crema/1080_MTI_SAD_XX.wav</td>\n",
              "    </tr>\n",
              "  </tbody>\n",
              "</table>\n",
              "</div>\n",
              "      <button class=\"colab-df-convert\" onclick=\"convertToInteractive('df-12e30eb9-3fd9-46ad-b894-979966582cc5')\"\n",
              "              title=\"Convert this dataframe to an interactive table.\"\n",
              "              style=\"display:none;\">\n",
              "        \n",
              "  <svg xmlns=\"http://www.w3.org/2000/svg\" height=\"24px\"viewBox=\"0 0 24 24\"\n",
              "       width=\"24px\">\n",
              "    <path d=\"M0 0h24v24H0V0z\" fill=\"none\"/>\n",
              "    <path d=\"M18.56 5.44l.94 2.06.94-2.06 2.06-.94-2.06-.94-.94-2.06-.94 2.06-2.06.94zm-11 1L8.5 8.5l.94-2.06 2.06-.94-2.06-.94L8.5 2.5l-.94 2.06-2.06.94zm10 10l.94 2.06.94-2.06 2.06-.94-2.06-.94-.94-2.06-.94 2.06-2.06.94z\"/><path d=\"M17.41 7.96l-1.37-1.37c-.4-.4-.92-.59-1.43-.59-.52 0-1.04.2-1.43.59L10.3 9.45l-7.72 7.72c-.78.78-.78 2.05 0 2.83L4 21.41c.39.39.9.59 1.41.59.51 0 1.02-.2 1.41-.59l7.78-7.78 2.81-2.81c.8-.78.8-2.07 0-2.86zM5.41 20L4 18.59l7.72-7.72 1.47 1.35L5.41 20z\"/>\n",
              "  </svg>\n",
              "      </button>\n",
              "      \n",
              "  <style>\n",
              "    .colab-df-container {\n",
              "      display:flex;\n",
              "      flex-wrap:wrap;\n",
              "      gap: 12px;\n",
              "    }\n",
              "\n",
              "    .colab-df-convert {\n",
              "      background-color: #E8F0FE;\n",
              "      border: none;\n",
              "      border-radius: 50%;\n",
              "      cursor: pointer;\n",
              "      display: none;\n",
              "      fill: #1967D2;\n",
              "      height: 32px;\n",
              "      padding: 0 0 0 0;\n",
              "      width: 32px;\n",
              "    }\n",
              "\n",
              "    .colab-df-convert:hover {\n",
              "      background-color: #E2EBFA;\n",
              "      box-shadow: 0px 1px 2px rgba(60, 64, 67, 0.3), 0px 1px 3px 1px rgba(60, 64, 67, 0.15);\n",
              "      fill: #174EA6;\n",
              "    }\n",
              "\n",
              "    [theme=dark] .colab-df-convert {\n",
              "      background-color: #3B4455;\n",
              "      fill: #D2E3FC;\n",
              "    }\n",
              "\n",
              "    [theme=dark] .colab-df-convert:hover {\n",
              "      background-color: #434B5C;\n",
              "      box-shadow: 0px 1px 3px 1px rgba(0, 0, 0, 0.15);\n",
              "      filter: drop-shadow(0px 1px 2px rgba(0, 0, 0, 0.3));\n",
              "      fill: #FFFFFF;\n",
              "    }\n",
              "  </style>\n",
              "\n",
              "      <script>\n",
              "        const buttonEl =\n",
              "          document.querySelector('#df-12e30eb9-3fd9-46ad-b894-979966582cc5 button.colab-df-convert');\n",
              "        buttonEl.style.display =\n",
              "          google.colab.kernel.accessAllowed ? 'block' : 'none';\n",
              "\n",
              "        async function convertToInteractive(key) {\n",
              "          const element = document.querySelector('#df-12e30eb9-3fd9-46ad-b894-979966582cc5');\n",
              "          const dataTable =\n",
              "            await google.colab.kernel.invokeFunction('convertToInteractive',\n",
              "                                                     [key], {});\n",
              "          if (!dataTable) return;\n",
              "\n",
              "          const docLinkHtml = 'Like what you see? Visit the ' +\n",
              "            '<a target=\"_blank\" href=https://colab.research.google.com/notebooks/data_table.ipynb>data table notebook</a>'\n",
              "            + ' to learn more about interactive tables.';\n",
              "          element.innerHTML = '';\n",
              "          dataTable['output_type'] = 'display_data';\n",
              "          await google.colab.output.renderOutput(dataTable, element);\n",
              "          const docLink = document.createElement('div');\n",
              "          docLink.innerHTML = docLinkHtml;\n",
              "          element.appendChild(docLink);\n",
              "        }\n",
              "      </script>\n",
              "    </div>\n",
              "  </div>\n",
              "  "
            ],
            "text/plain": [
              "  Emotion                                               Path\n",
              "0     sad  /content/drive/My Drive/Crema/1079_IEO_SAD_LO.wav\n",
              "1   angry  /content/drive/My Drive/Crema/1079_IEO_ANG_MD.wav\n",
              "2   happy  /content/drive/My Drive/Crema/1079_IWW_HAP_XX.wav\n",
              "3     sad  /content/drive/My Drive/Crema/1080_IOM_SAD_XX.wav\n",
              "4     sad  /content/drive/My Drive/Crema/1080_MTI_SAD_XX.wav"
            ]
          },
          "execution_count": 3,
          "metadata": {},
          "output_type": "execute_result"
        }
      ],
      "source": [
        "emotion_df = []\n",
        "Crema = \"/content/drive/My Drive/Crema\"\n",
        "for wav in os.listdir(Crema):\n",
        "    info = wav.partition(\".wav\")[0].split(\"_\")\n",
        "    if info[2] == 'SAD':\n",
        "        emotion_df.append((\"sad\", Crema + \"/\" + wav))\n",
        "    elif info[2] == 'ANG':\n",
        "        emotion_df.append((\"angry\", Crema + \"/\" + wav))\n",
        "    elif info[2] == 'DIS':\n",
        "        emotion_df.append((\"disgust\", Crema + \"/\" + wav))\n",
        "    elif info[2] == 'FEA':\n",
        "        emotion_df.append((\"fear\", Crema + \"/\" + wav))\n",
        "    elif info[2] == 'HAP':\n",
        "        emotion_df.append((\"happy\", Crema + \"/\" + wav))\n",
        "    elif info[2] == 'NEU':\n",
        "        emotion_df.append((\"neutral\", Crema + \"/\" + wav))\n",
        "    else:\n",
        "        emotion_df.append((\"unknown\", Crema + \"/\" + wav))\n",
        "\n",
        "\n",
        "Crema_df = pd.DataFrame.from_dict(emotion_df)\n",
        "Crema_df.rename(columns={1 : \"Path\", 0 : \"Emotion\"}, inplace=True)\n",
        "\n",
        "Crema_df.head()"
      ]
    },
    {
      "cell_type": "code",
      "execution_count": null,
      "metadata": {
        "colab": {
          "base_uri": "https://localhost:8080/"
        },
        "id": "IeKQfZsUcbYn",
        "outputId": "bf692076-6338-4a58-b355-b44dea2b48d4"
      },
      "outputs": [
        {
          "data": {
            "text/plain": [
              "7443"
            ]
          },
          "execution_count": 4,
          "metadata": {},
          "output_type": "execute_result"
        }
      ],
      "source": [
        "len(Crema_df)"
      ]
    },
    {
      "cell_type": "code",
      "execution_count": null,
      "metadata": {
        "id": "SAadVwCOcBA5"
      },
      "outputs": [],
      "source": [
        "%matplotlib inline\n",
        "\n",
        "plt.style.use(\"ggplot\")"
      ]
    },
    {
      "cell_type": "code",
      "execution_count": null,
      "metadata": {
        "colab": {
          "base_uri": "https://localhost:8080/",
          "height": 477
        },
        "id": "rdJcUeajcCpm",
        "outputId": "a2ac9630-673a-478a-f50f-e77f6a40ab03"
      },
      "outputs": [
        {
          "data": {
            "image/png": "[encoded data removed]",
            "text/plain": [
              "<Figure size 640x480 with 1 Axes>"
            ]
          },
          "metadata": {},
          "output_type": "display_data"
        }
      ],
      "source": [
        "plt.title(\"Count of emotions:\")\n",
        "sns.countplot(x=Crema_df[\"Emotion\"])\n",
        "sns.despine(top=True, right=True, left=False, bottom=False)"
      ]
    },
    {
      "cell_type": "code",
      "execution_count": null,
      "metadata": {
        "id": "mLG3LGLrYd6Y"
      },
      "outputs": [],
      "source": [
        "def draw_wav(path):\n",
        "    data,sr = librosa.load(path)\n",
        "    plt.title('Audio wave :: ' + path)\n",
        "    disp.waveshow(y=data,sr=sr)\n",
        "    plt.show()"
      ]
    },
    {
      "cell_type": "code",
      "execution_count": null,
      "metadata": {
        "id": "K6hftggkc2EV"
      },
      "outputs": [],
      "source": [
        "def create_waveplot(data, sr, e):\n",
        "    plt.figure(figsize=(10, 3))\n",
        "    plt.title(f'Waveplot for audio with {e} emotion', size=15)\n",
        "    plt.plot(data)\n",
        "    plt.show()"
      ]
    },
    {
      "cell_type": "markdown",
      "metadata": {
        "id": "MmYl2HmqlsHK"
      },
      "source": [
        "**Drawing Mel spectrogram from signal**"
      ]
    },
    {
      "cell_type": "code",
      "execution_count": null,
      "metadata": {
        "id": "YVbdj6-dYguM"
      },
      "outputs": [],
      "source": [
        "def draw_melspectrogram(path):\n",
        "    data,sr = librosa.load(path)\n",
        "    x = librosa.feature.melspectrogram(y=data, sr=sr)\n",
        "    #xdp = librosa.power_to_dp(x , ref=np.max)\n",
        "    plt.title('melspectrogram for wave :: ' + path)\n",
        "    disp.specshow(data=x,sr=sr , x_axis='s', y_axis='log')\n",
        "    plt.show()\n",
        "    return x"
      ]
    },
    {
      "cell_type": "code",
      "execution_count": null,
      "metadata": {
        "id": "Mr6ryBbvc8v2"
      },
      "outputs": [],
      "source": [
        "def create_spectrogram(data, sr, e):\n",
        "    # stft function converts the data into short term fourier transform\n",
        "    X = librosa.stft(data)\n",
        "    Xdb = librosa.amplitude_to_db(abs(X))\n",
        "    plt.figure(figsize=(12, 3))\n",
        "    plt.title('Spectrogram for audio with {} emotion'.format(e), size=15)\n",
        "    librosa.display.specshow(Xdb, sr=sr, x_axis='time', y_axis='hz')\n",
        "    #librosa.display.specshow(Xdb, sr=sr, x_axis='time', y_axis='log')\n",
        "    plt.colorbar()"
      ]
    },
    {
      "cell_type": "code",
      "execution_count": null,
      "metadata": {
        "id": "Q7Wtq7_8Yld6"
      },
      "outputs": [],
      "source": [
        "#emotions,pathes = load_data(path)"
      ]
    },
    {
      "cell_type": "code",
      "execution_count": null,
      "metadata": {
        "id": "O4WzpV-KR8SE"
      },
      "outputs": [],
      "source": [
        "#emotions"
      ]
    },
    {
      "cell_type": "code",
      "execution_count": null,
      "metadata": {
        "id": "PpPVqvmVR-5E"
      },
      "outputs": [],
      "source": [
        "#pathes"
      ]
    },
    {
      "cell_type": "code",
      "execution_count": null,
      "metadata": {
        "id": "83G4uGhKYpDE"
      },
      "outputs": [],
      "source": [
        "#print(emotions[0])\n",
        "#draw_wav(pathes[0])\n",
        "#melspectro = draw_melspectrogram(pathes[0])\n",
        "#Audio(pathes[0])\n",
        "\n"
      ]
    },
    {
      "cell_type": "code",
      "execution_count": null,
      "metadata": {
        "colab": {
          "base_uri": "https://localhost:8080/",
          "height": 696
        },
        "id": "SleGY9nvdI0O",
        "outputId": "5545e766-7b85-4eae-be4e-2b81c0ffdae1"
      },
      "outputs": [
        {
          "data": {
            "image/png": "[encoded data removed]",
            "text/plain": [
              "<Figure size 1000x300 with 1 Axes>"
            ]
          },
          "metadata": {},
          "output_type": "display_data"
        },
        {
          "data": {
            "text/html": [
              "\n",
              "                <audio  controls=\"controls\" >\n",
              "                    <source src=\"data:audio/x-wav;base64,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\" type=\"audio/x-wav\" />\n",
              "                    Your browser does not support the audio element.\n",
              "                </audio>\n",
              "              "
            ],
            "text/plain": [
              "<IPython.lib.display.Audio object>"
            ]
          },
          "execution_count": 13,
          "metadata": {},
          "output_type": "execute_result"
        },
        {
          "data": {
            "image/png": "[encoded data removed]",
            "text/plain": [
              "<Figure size 1200x300 with 2 Axes>"
            ]
          },
          "metadata": {},
          "output_type": "display_data"
        }
      ],
      "source": [
        "emotion='sad'\n",
        "path = np.array(Crema_df.Path[Crema_df.Emotion==emotion])[1]\n",
        "data, sampling_rate = librosa.load(path)\n",
        "create_waveplot(data, sampling_rate, emotion)\n",
        "create_spectrogram(data, sampling_rate, emotion)\n",
        "Audio(path)"
      ]
    },
    {
      "cell_type": "code",
      "execution_count": null,
      "metadata": {
        "id": "4LW7O7BSdb8g"
      },
      "outputs": [],
      "source": []
    },
    {
      "cell_type": "markdown",
      "metadata": {
        "id": "IbryuW2SaiWq"
      },
      "source": [
        "Zero Crossing Rate : The rate of sign-changes of the signal during the duration of a particular frame.\n",
        "Energy : The sum of squares of the signal values, normalized by the respective frame length.\n",
        "Entropy of Energy :The entropy of sub-frames’ normalized energies. It can be interpreted as a measure of abrupt changes.\n",
        "Spectral Centroid : The center of gravity of the spectrum.\n",
        "Spectral Spread : The second central moment of the spectrum.\n",
        "Spectral Entropy : Entropy of the normalized spectral energies for a set of sub-frames.\n",
        "Spectral Flux : The squared difference between the normalized magnitudes of the spectra of the two successive frames.\n",
        "Spectral Rolloff : The frequency below which 90% of the magnitude distribution of the spectrum is concentrated.\n",
        "MFCCs Mel Frequency Cepstral Coefficients form a cepstral representation where the frequency bands are not linear but distributed according to the mel-scale."
      ]
    },
    {
      "cell_type": "markdown",
      "metadata": {
        "id": "ylU8haWyvA-q"
      },
      "source": [
        "**augmentation**"
      ]
    },
    {
      "cell_type": "code",
      "execution_count": null,
      "metadata": {
        "id": "x50XEjOtvDlq"
      },
      "outputs": [],
      "source": [
        "def pitch(data, sampling_rate, pitch_factor=0.5, random=True):\n",
        "    if random:\n",
        "        pitch_factor = np.random.random() * pitch_factor\n",
        "    return librosa.effects.pitch_shift(data, sr=sampling_rate, n_steps=pitch_factor)"
      ]
    },
    {
      "cell_type": "code",
      "execution_count": null,
      "metadata": {
        "id": "0-0FfScbvEjw"
      },
      "outputs": [],
      "source": [
        "def noise(data, random=False, rate=0.035, threshold=0.075):\n",
        "    \"\"\"Add some noise to sound sample. Use random if you want to add random noise with some threshold.\n",
        "    Or use rate Random=False and rate for always adding fixed noise.\"\"\"\n",
        "    if random:\n",
        "        rate = np.random.random() * threshold\n",
        "    noise_amp = rate*np.random.uniform()*np.amax(data)\n",
        "    data = data + noise_amp*np.random.normal(size=data.shape[0])\n",
        "    return data"
      ]
    },
    {
      "cell_type": "markdown",
      "metadata": {
        "id": "PJMcgrt6k_ff"
      },
      "source": [
        "**Extracting RMS Energy feature**"
      ]
    },
    {
      "cell_type": "code",
      "execution_count": null,
      "metadata": {
        "id": "LNaA3BzOefS0"
      },
      "outputs": [],
      "source": [
        "def rmse(data,frame_length=2048,hop_length=512):\n",
        "    rmse=librosa.feature.rms(y=data,frame_length=frame_length,hop_length=hop_length)\n",
        "    return np.squeeze(rmse)"
      ]
    },
    {
      "cell_type": "markdown",
      "metadata": {
        "id": "9n9LG15Wlf6S"
      },
      "source": [
        "**Extracting Zero crossing rate feature**"
      ]
    },
    {
      "cell_type": "code",
      "execution_count": null,
      "metadata": {
        "id": "4u5pJiH0l2sH"
      },
      "outputs": [],
      "source": [
        "def zcr(data,frame_length=2048,hop_length=512):\n",
        "    zcr=librosa.feature.zero_crossing_rate(y=data,frame_length=frame_length,hop_length=hop_length)\n",
        "    return np.squeeze(zcr)"
      ]
    },
    {
      "cell_type": "markdown",
      "metadata": {
        "id": "qhv8Su5Mt-83"
      },
      "source": [
        "**Extraxting MFCC**"
      ]
    },
    {
      "cell_type": "code",
      "execution_count": null,
      "metadata": {
        "id": "fv5RXIQXtsdS"
      },
      "outputs": [],
      "source": [
        "def mfcc(data, sr, frame_length=2048, hop_length=512, flatten: bool = True):\n",
        "    mfcc_feature = librosa.feature.mfcc(y=data, sr=sr)\n",
        "    return np.squeeze(mfcc_feature.T) if not flatten else np.ravel(mfcc_feature.T)"
      ]
    },
    {
      "cell_type": "markdown",
      "metadata": {
        "id": "rjTKKTC7uQSZ"
      },
      "source": [
        "**Extracting all features**"
      ]
    },
    {
      "cell_type": "code",
      "execution_count": null,
      "metadata": {
        "id": "uUlyCCkmuG7e"
      },
      "outputs": [],
      "source": [
        "def extract_features(data,sr,frame_length=2048,hop_length=512):\n",
        "    result=np.array([])\n",
        "\n",
        "    result=np.hstack((result,\n",
        "                      zcr(data,frame_length,hop_length),\n",
        "                      rmse(data,frame_length,hop_length),\n",
        "                      mfcc(data, sr, frame_length, hop_length)\n",
        "                     ))\n",
        "    return result"
      ]
    },
    {
      "cell_type": "code",
      "execution_count": null,
      "metadata": {
        "id": "TZgjszOLueeK"
      },
      "outputs": [],
      "source": [
        "def get_features(path, duration=2.5, offset=0.6):\n",
        "    # duration and offset are used to take care of the no audio in start and the ending of each audio files as seen above.\n",
        "    data, sample_rate = librosa.load(path, duration=duration, offset=offset)\n",
        "\n",
        "     # without augmentation\n",
        "    res1 = extract_features(data, sample_rate)\n",
        "    result = np.array(res1)\n",
        "\n",
        "    # data with noise\n",
        "    noise_data = noise(data, random=True)\n",
        "    res2 = extract_features(noise_data, sample_rate)\n",
        "    result = np.vstack((result, res2)) # stacking vertically\n",
        "\n",
        "    # data with pitching\n",
        "    pitched_data = pitch(data, sample_rate, random=True)\n",
        "    res3 = extract_features(pitched_data, sample_rate)\n",
        "    result = np.vstack((result, res3)) # stacking vertically\n",
        "\n",
        "    # data with pitching and white_noise\n",
        "    new_data = pitch(data, sample_rate, random=True)\n",
        "    data_noise_pitch = noise(new_data, random=True)\n",
        "    res3 = extract_features(data_noise_pitch, sample_rate)\n",
        "    result = np.vstack((result, res3)) # stacking vertically\n",
        "\n",
        "    return result"
      ]
    },
    {
      "cell_type": "code",
      "execution_count": null,
      "metadata": {
        "id": "M2vZZCyy_B2l"
      },
      "outputs": [],
      "source": []
    },
    {
      "cell_type": "markdown",
      "metadata": {
        "id": "BkDKA5p49QGu"
      },
      "source": [
        "**Data Preparation**"
      ]
    },
    {
      "cell_type": "code",
      "execution_count": null,
      "metadata": {
        "id": "A4SV87DShH6g"
      },
      "outputs": [],
      "source": [
        "#label encoding for changing label to categorical features\n",
        "label_encoder = preprocessing.LabelEncoder()\n",
        "emotions_y= label_encoder.fit_transform(Crema_df.Emotion)\n",
        "emotions_y = keras.utils.to_categorical(emotions_y,num_classes=6)"
      ]
    },
    {
      "cell_type": "code",
      "execution_count": null,
      "metadata": {
        "id": "_vpR9tVp_8q2"
      },
      "outputs": [],
      "source": [
        "X_train_1d, X_test_1d, y_train_1d, y_test_1d = train_test_split(Crema_df.Path, emotions_y, train_size = 0.7, stratify = emotions_y , random_state=42)"
      ]
    },
    {
      "cell_type": "code",
      "execution_count": null,
      "metadata": {
        "id": "H-oN5f7mAMYf"
      },
      "outputs": [],
      "source": [
        "X_train_1d, X_valid_1d, y_train_1d, y_valid_1d = train_test_split(X_train_1d, y_train_1d, train_size = 0.95, stratify = y_train_1d , random_state=42)"
      ]
    },
    {
      "cell_type": "code",
      "execution_count": null,
      "metadata": {
        "colab": {
          "base_uri": "https://localhost:8080/"
        },
        "id": "79X688Lu_L5r",
        "outputId": "b18866b3-0fd0-4d32-871b-3346098fdc88"
      },
      "outputs": [
        {
          "data": {
            "text/plain": [
              "261"
            ]
          },
          "execution_count": 24,
          "metadata": {},
          "output_type": "execute_result"
        }
      ],
      "source": [
        "#X = extracted_df.drop(labels=\"labels\", axis=1)\n",
        "#Y = extracted_df[\"labels\"]\n",
        "X_valid_1d.shape[0]"
      ]
    },
    {
      "cell_type": "code",
      "execution_count": null,
      "metadata": {
        "colab": {
          "base_uri": "https://localhost:8080/"
        },
        "id": "O6_eGCdQefAZ",
        "outputId": "c9c4f64c-a707-4276-dd44-05bed4ace255"
      },
      "outputs": [
        {
          "name": "stdout",
          "output_type": "stream",
          "text": [
            "0 samples has been processed...\n",
            "100 samples has been processed...\n",
            "200 samples has been processed...\n",
            "300 samples has been processed...\n",
            "400 samples has been processed...\n",
            "500 samples has been processed...\n",
            "600 samples has been processed...\n",
            "700 samples has been processed...\n",
            "800 samples has been processed...\n",
            "900 samples has been processed...\n",
            "1000 samples has been processed...\n",
            "1100 samples has been processed...\n",
            "1200 samples has been processed...\n",
            "1300 samples has been processed...\n",
            "1400 samples has been processed...\n",
            "1500 samples has been processed...\n",
            "1600 samples has been processed...\n",
            "1700 samples has been processed...\n",
            "1800 samples has been processed...\n",
            "1900 samples has been processed...\n",
            "2000 samples has been processed...\n",
            "2100 samples has been processed...\n",
            "2200 samples has been processed...\n",
            "2300 samples has been processed...\n",
            "2400 samples has been processed...\n",
            "2500 samples has been processed...\n",
            "2600 samples has been processed...\n",
            "2700 samples has been processed...\n",
            "2800 samples has been processed...\n",
            "2900 samples has been processed...\n",
            "3000 samples has been processed...\n",
            "3100 samples has been processed...\n",
            "3200 samples has been processed...\n",
            "3300 samples has been processed...\n",
            "3400 samples has been processed...\n",
            "3500 samples has been processed...\n",
            "3600 samples has been processed...\n",
            "3700 samples has been processed...\n",
            "3800 samples has been processed...\n",
            "3900 samples has been processed...\n",
            "4000 samples has been processed...\n",
            "4100 samples has been processed...\n",
            "4200 samples has been processed...\n",
            "4300 samples has been processed...\n",
            "4400 samples has been processed...\n",
            "4500 samples has been processed...\n",
            "4600 samples has been processed...\n",
            "4700 samples has been processed...\n",
            "4800 samples has been processed...\n",
            "4900 samples has been processed...\n"
          ]
        }
      ],
      "source": [
        "X, Y = [], []\n",
        "for path, emotion, ind in zip(X_train_1d, y_train_1d, range(X_train_1d.shape[0])):\n",
        "    data, sample_rate = librosa.load(path, duration=2.5, offset=0.6)\n",
        "    features = extract_features(data, sample_rate)\n",
        "    #features = get_features(path)\n",
        "    if ind % 100 == 0:\n",
        "        print(f\"{ind} samples has been processed...\")\n",
        "    #for ele in features:\n",
        "    X.append(features)\n",
        "        # appending emotion 3 times as we have made 3 augmentation techniques on each audio file.\n",
        "    Y.append(emotion)"
      ]
    },
    {
      "cell_type": "code",
      "execution_count": null,
      "metadata": {
        "colab": {
          "base_uri": "https://localhost:8080/"
        },
        "id": "SgvY0ZWc8tkY",
        "outputId": "58165c01-0acf-4a17-d9fd-3c0c599bf889"
      },
      "outputs": [
        {
          "name": "stdout",
          "output_type": "stream",
          "text": [
            "0 samples has been processed...\n",
            "100 samples has been processed...\n",
            "200 samples has been processed...\n",
            "300 samples has been processed...\n",
            "400 samples has been processed...\n",
            "500 samples has been processed...\n",
            "600 samples has been processed...\n",
            "700 samples has been processed...\n",
            "800 samples has been processed...\n",
            "900 samples has been processed...\n",
            "1000 samples has been processed...\n",
            "1100 samples has been processed...\n",
            "1200 samples has been processed...\n",
            "1300 samples has been processed...\n",
            "1400 samples has been processed...\n",
            "1500 samples has been processed...\n",
            "1600 samples has been processed...\n",
            "1700 samples has been processed...\n",
            "1800 samples has been processed...\n",
            "1900 samples has been processed...\n",
            "2000 samples has been processed...\n",
            "2100 samples has been processed...\n",
            "2200 samples has been processed...\n"
          ]
        }
      ],
      "source": [
        "X1, Y1 = [], []\n",
        "for path, emotion, ind in zip(X_test_1d, y_test_1d, range(X_test_1d.shape[0])):\n",
        "    data, sample_rate = librosa.load(path, duration=2.5, offset=0.6)\n",
        "    features = extract_features(data, sample_rate)\n",
        "    #features = get_features(path)\n",
        "    if ind % 100 == 0:\n",
        "        print(f\"{ind} samples has been processed...\")\n",
        "    #for ele in features:\n",
        "    X1.append(features)\n",
        "        # appending emotion 3 times as we have made 3 augmentation techniques on each audio file.\n",
        "    Y1.append(emotion)"
      ]
    },
    {
      "cell_type": "code",
      "execution_count": null,
      "metadata": {
        "colab": {
          "base_uri": "https://localhost:8080/"
        },
        "id": "FJ8X_Nfe8_QD",
        "outputId": "cc3343fc-ce08-4318-9606-940ceca61ee2"
      },
      "outputs": [
        {
          "name": "stdout",
          "output_type": "stream",
          "text": [
            "0 samples has been processed...\n",
            "100 samples has been processed...\n",
            "200 samples has been processed...\n"
          ]
        }
      ],
      "source": [
        "X2, Y2 = [], []\n",
        "for path, emotion, ind in zip(X_valid_1d, y_valid_1d, range(X_valid_1d.shape[0])):\n",
        "    data, sample_rate = librosa.load(path, duration=2.5, offset=0.6)\n",
        "    features = extract_features(data, sample_rate)\n",
        "    features = np.array(features)\n",
        "    #features = get_features(path)\n",
        "    if ind % 100 == 0:\n",
        "        print(f\"{ind} samples has been processed...\")\n",
        "    #for ele in features:\n",
        "    X2.append(features)\n",
        "        # appending emotion 3 times as we have made 3 augmentation techniques on each audio file.\n",
        "    Y2.append(emotion)"
      ]
    },
    {
      "cell_type": "code",
      "execution_count": null,
      "metadata": {
        "colab": {
          "base_uri": "https://localhost:8080/"
        },
        "id": "dMLrCjq7XUrL",
        "outputId": "ffb6afbf-2a9b-4f24-d3d5-b2f6b9a03756"
      },
      "outputs": [
        {
          "data": {
            "text/plain": [
              "(1760,)"
            ]
          },
          "execution_count": 28,
          "metadata": {},
          "output_type": "execute_result"
        }
      ],
      "source": [
        "np.shape(features)"
      ]
    },
    {
      "cell_type": "code",
      "execution_count": null,
      "metadata": {
        "colab": {
          "base_uri": "https://localhost:8080/"
        },
        "id": "I6HB1BJ8WrUr",
        "outputId": "1791fdf4-6534-4d9d-dd20-672df6f43bd6"
      },
      "outputs": [
        {
          "name": "stderr",
          "output_type": "stream",
          "text": [
            "/usr/local/lib/python3.10/dist-packages/numpy/core/fromnumeric.py:2007: VisibleDeprecationWarning: Creating an ndarray from ragged nested sequences (which is a list-or-tuple of lists-or-tuples-or ndarrays with different lengths or shapes) is deprecated. If you meant to do this, you must specify 'dtype=object' when creating the ndarray.\n",
            "  result = asarray(a).shape\n"
          ]
        },
        {
          "data": {
            "text/plain": [
              "(2233,)"
            ]
          },
          "execution_count": 29,
          "metadata": {},
          "output_type": "execute_result"
        }
      ],
      "source": [
        "np.shape(X1)"
      ]
    },
    {
      "cell_type": "code",
      "execution_count": null,
      "metadata": {
        "id": "u3NX-DqsNZ8u"
      },
      "outputs": [],
      "source": [
        "X=pd.DataFrame(X)\n",
        "X1=pd.DataFrame(X1)\n",
        "X2=pd.DataFrame(X2)"
      ]
    },
    {
      "cell_type": "code",
      "execution_count": null,
      "metadata": {
        "id": "yZjlSwTbN3C8"
      },
      "outputs": [],
      "source": [
        "X=X.fillna(0)\n"
      ]
    },
    {
      "cell_type": "code",
      "execution_count": null,
      "metadata": {
        "id": "KALCjexSWF2S"
      },
      "outputs": [],
      "source": [
        "X1=X1.fillna(0)"
      ]
    },
    {
      "cell_type": "code",
      "execution_count": null,
      "metadata": {
        "id": "ixOJF2MuVguY"
      },
      "outputs": [],
      "source": [
        "X2=X2.fillna(0)"
      ]
    },
    {
      "cell_type": "code",
      "execution_count": null,
      "metadata": {
        "id": "XKUoDNFEeiUC"
      },
      "outputs": [],
      "source": [
        "extracted_train = X\n",
        "extracted_train_y = Y"
      ]
    },
    {
      "cell_type": "code",
      "execution_count": null,
      "metadata": {
        "id": "aRismiIx9H2J"
      },
      "outputs": [],
      "source": [
        "extracted_test = X1\n",
        "extracted_test_y= Y1"
      ]
    },
    {
      "cell_type": "code",
      "execution_count": null,
      "metadata": {
        "id": "9LdscyXN9MzQ"
      },
      "outputs": [],
      "source": [
        "extracted_valid = X2\n",
        "extracted_valid_y = Y2"
      ]
    },
    {
      "cell_type": "code",
      "execution_count": null,
      "metadata": {
        "colab": {
          "base_uri": "https://localhost:8080/"
        },
        "id": "nJFpwmE-ek1A",
        "outputId": "8ab87c28-5136-451e-d3f1-f8387ea87034"
      },
      "outputs": [
        {
          "data": {
            "text/plain": [
              "(261, 2376)"
            ]
          },
          "execution_count": 37,
          "metadata": {},
          "output_type": "execute_result"
        }
      ],
      "source": [
        "np.shape(extracted_valid)"
      ]
    },
    {
      "cell_type": "code",
      "execution_count": null,
      "metadata": {
        "colab": {
          "base_uri": "https://localhost:8080/"
        },
        "id": "kXyABHalFXtM",
        "outputId": "9ae357da-3dd4-4719-a2d8-bd093953a258"
      },
      "outputs": [
        {
          "data": {
            "text/plain": [
              "((4949, 2376), (2233, 2376), (261, 2376), (4949, 6), (2233, 6), (261, 6))"
            ]
          },
          "execution_count": 38,
          "metadata": {},
          "output_type": "execute_result"
        }
      ],
      "source": [
        "scaler = StandardScaler()\n",
        "X_train_1d = scaler.fit_transform(extracted_train)\n",
        "X_test_1d = scaler.transform(extracted_test)\n",
        "X_valid_1d = scaler.transform(extracted_valid)\n",
        "X_train_1d.shape, X_test_1d.shape, X_valid_1d.shape, y_train_1d.shape, y_test_1d.shape, y_valid_1d.shape"
      ]
    },
    {
      "cell_type": "code",
      "execution_count": null,
      "metadata": {
        "colab": {
          "base_uri": "https://localhost:8080/"
        },
        "id": "4GMETMifow99",
        "outputId": "483c5897-3ecb-45f7-a2fd-dddfb29ab30f"
      },
      "outputs": [
        {
          "data": {
            "text/plain": [
              "(2376,)"
            ]
          },
          "execution_count": 39,
          "metadata": {},
          "output_type": "execute_result"
        }
      ],
      "source": [
        "np.shape(X_test_1d[100])"
      ]
    },
    {
      "cell_type": "markdown",
      "metadata": {
        "id": "cB0Vb4wsAu32"
      },
      "source": [
        "**conv1D model**"
      ]
    },
    {
      "cell_type": "code",
      "execution_count": null,
      "metadata": {
        "id": "SliFGHcCAx1X"
      },
      "outputs": [],
      "source": [
        "train_1d = tf.convert_to_tensor(X_train_1d)\n",
        "label_1d = tf.convert_to_tensor(y_train_1d)"
      ]
    },
    {
      "cell_type": "code",
      "execution_count": null,
      "metadata": {
        "id": "6ySxGcd1A-cE"
      },
      "outputs": [],
      "source": [
        "test_1d = tf.convert_to_tensor(X_test_1d)\n",
        "label_test_1d = tf.convert_to_tensor(y_test_1d)"
      ]
    },
    {
      "cell_type": "code",
      "execution_count": null,
      "metadata": {
        "id": "HFx-2xR6BII4"
      },
      "outputs": [],
      "source": [
        "X_valid_1d = tf.convert_to_tensor(X_valid_1d)\n",
        "y_valid_1d = tf.convert_to_tensor(y_valid_1d)"
      ]
    },
    {
      "cell_type": "code",
      "execution_count": null,
      "metadata": {
        "colab": {
          "base_uri": "https://localhost:8080/"
        },
        "id": "kAJRH1xyBSND",
        "outputId": "916267d4-ada4-42cb-8c36-82cf219caa52"
      },
      "outputs": [
        {
          "data": {
            "text/plain": [
              "TensorShape([4949, 2376])"
            ]
          },
          "execution_count": 43,
          "metadata": {},
          "output_type": "execute_result"
        }
      ],
      "source": [
        "np.shape(train_1d)"
      ]
    },
    {
      "cell_type": "code",
      "execution_count": null,
      "metadata": {
        "colab": {
          "base_uri": "https://localhost:8080/"
        },
        "id": "vw3ERhgcBdow",
        "outputId": "e55dc02c-a9dd-437d-ea7e-bfe5864e664f"
      },
      "outputs": [
        {
          "data": {
            "text/plain": [
              "TensorShape([4949, 6])"
            ]
          },
          "execution_count": 44,
          "metadata": {},
          "output_type": "execute_result"
        }
      ],
      "source": [
        "np.shape(label_1d)"
      ]
    },
    {
      "cell_type": "code",
      "execution_count": null,
      "metadata": {
        "id": "Fp1VbpXvBf-4"
      },
      "outputs": [],
      "source": [
        "model = Sequential()\n",
        "model.add(Conv1D(64, kernel_size=5, strides=1,\n",
        "                        padding=\"same\", activation=\"relu\",\n",
        "                        input_shape=(X_train_1d.shape[1], 1)))\n",
        "model.add(MaxPooling1D(pool_size=5, strides=2, padding=\"valid\"))\n",
        "model.add(BatchNormalization())\n",
        "\n",
        "model.add(Conv1D(128, kernel_size=5, strides=1,\n",
        "                        padding=\"same\", activation=\"relu\"))\n",
        "model.add(MaxPooling1D(pool_size=5, strides=2, padding=\"same\"))\n",
        "#model.add(BatchNormalization())\n",
        "\n",
        "model.add(Conv1D(256, kernel_size=5, strides=1,\n",
        "                        padding=\"same\", activation=\"relu\"))\n",
        "model.add(MaxPooling1D(pool_size=5, strides=2, padding=\"same\"))\n",
        "\n",
        "\n",
        "model.add(Dropout(0.7))\n",
        "\n",
        "model.add(Flatten())\n",
        "#model.add(Dense(256, activation='relu',kernel_regularizer=regularizers.l2(0.01), activity_regularizer=regularizers.l1(0.01)))\n",
        "model.add(Dense(128, activation='relu'))\n",
        "model.add(Dropout(0.3))\n",
        "model.add(Dense(64, activation='relu'))\n",
        "#model.add(BatchNormalization())\n",
        "model.add(Dense(6, activation=\"softmax\"))\n",
        "\n",
        "model.compile(loss='categorical_crossentropy', optimizer = 'adam', metrics = ['accuracy'])"
      ]
    },
    {
      "cell_type": "code",
      "execution_count": null,
      "metadata": {
        "colab": {
          "base_uri": "https://localhost:8080/"
        },
        "id": "m75M8SyTCnLa",
        "outputId": "5a70929c-c506-4225-f92c-36f637bf0140"
      },
      "outputs": [
        {
          "name": "stdout",
          "output_type": "stream",
          "text": [
            "Model: \"sequential_2\"\n",
            "_________________________________________________________________\n",
            " Layer (type)                Output Shape              Param #   \n",
            "=================================================================\n",
            " conv1d_6 (Conv1D)           (None, 2376, 64)          384       \n",
            "                                                                 \n",
            " max_pooling1d_6 (MaxPooling  (None, 1186, 64)         0         \n",
            " 1D)                                                             \n",
            "                                                                 \n",
            " batch_normalization_1 (Batc  (None, 1186, 64)         256       \n",
            " hNormalization)                                                 \n",
            "                                                                 \n",
            " conv1d_7 (Conv1D)           (None, 1186, 128)         41088     \n",
            "                                                                 \n",
            " max_pooling1d_7 (MaxPooling  (None, 593, 128)         0         \n",
            " 1D)                                                             \n",
            "                                                                 \n",
            " conv1d_8 (Conv1D)           (None, 593, 256)          164096    \n",
            "                                                                 \n",
            " max_pooling1d_8 (MaxPooling  (None, 297, 256)         0         \n",
            " 1D)                                                             \n",
            "                                                                 \n",
            " dropout_3 (Dropout)         (None, 297, 256)          0         \n",
            "                                                                 \n",
            " flatten_2 (Flatten)         (None, 76032)             0         \n",
            "                                                                 \n",
            " dense_4 (Dense)             (None, 128)               9732224   \n",
            "                                                                 \n",
            " dropout_4 (Dropout)         (None, 128)               0         \n",
            "                                                                 \n",
            " dense_5 (Dense)             (None, 64)                8256      \n",
            "                                                                 \n",
            " dense_6 (Dense)             (None, 6)                 390       \n",
            "                                                                 \n",
            "=================================================================\n",
            "Total params: 9,946,694\n",
            "Trainable params: 9,946,566\n",
            "Non-trainable params: 128\n",
            "_________________________________________________________________\n"
          ]
        }
      ],
      "source": [
        "model.summary()"
      ]
    },
    {
      "cell_type": "code",
      "execution_count": null,
      "metadata": {
        "id": "E4j4sZDBDGxO"
      },
      "outputs": [],
      "source": [
        "from tensorflow.keras.callbacks import EarlyStopping, ReduceLROnPlateau\n",
        "early_stop=EarlyStopping(monitor='val_accuracy',mode='auto',patience=5,restore_best_weights=True)\n",
        "lr_reduction=ReduceLROnPlateau(monitor='val_accuracy',patience=3,verbose=1,factor=0.5,min_lr=0.0001)"
      ]
    },
    {
      "cell_type": "code",
      "execution_count": null,
      "metadata": {
        "colab": {
          "base_uri": "https://localhost:8080/"
        },
        "id": "c8RTDzl3Cqjb",
        "outputId": "457d38e6-56e7-42b3-aafe-7a4b4602e7ac"
      },
      "outputs": [
        {
          "name": "stdout",
          "output_type": "stream",
          "text": [
            "Epoch 1/100\n",
            "310/310 [==============================] - 228s 727ms/step - loss: 1.8582 - accuracy: 0.2085 - val_loss: 1.7714 - val_accuracy: 0.2375 - lr: 0.0010\n",
            "Epoch 2/100\n",
            "310/310 [==============================] - 219s 706ms/step - loss: 1.7893 - accuracy: 0.2170 - val_loss: 1.7793 - val_accuracy: 0.2107 - lr: 0.0010\n",
            "Epoch 3/100\n",
            "310/310 [==============================] - 222s 716ms/step - loss: 1.7688 - accuracy: 0.2219 - val_loss: 1.7385 - val_accuracy: 0.2567 - lr: 0.0010\n",
            "Epoch 4/100\n",
            "310/310 [==============================] - 215s 693ms/step - loss: 1.7590 - accuracy: 0.2370 - val_loss: 1.7497 - val_accuracy: 0.2682 - lr: 0.0010\n",
            "Epoch 5/100\n",
            "310/310 [==============================] - 226s 727ms/step - loss: 1.7496 - accuracy: 0.2417 - val_loss: 1.6725 - val_accuracy: 0.3218 - lr: 0.0010\n",
            "Epoch 6/100\n",
            "310/310 [==============================] - 224s 722ms/step - loss: 1.7172 - accuracy: 0.2584 - val_loss: 1.7039 - val_accuracy: 0.2682 - lr: 0.0010\n",
            "Epoch 7/100\n",
            "310/310 [==============================] - 222s 715ms/step - loss: 1.7159 - accuracy: 0.2665 - val_loss: 1.7091 - val_accuracy: 0.2720 - lr: 0.0010\n",
            "Epoch 8/100\n",
            "310/310 [==============================] - ETA: 0s - loss: 1.7154 - accuracy: 0.2750\n",
            "Epoch 8: ReduceLROnPlateau reducing learning rate to 0.0005000000237487257.\n",
            "310/310 [==============================] - 224s 723ms/step - loss: 1.7154 - accuracy: 0.2750 - val_loss: 1.6673 - val_accuracy: 0.2874 - lr: 0.0010\n",
            "Epoch 9/100\n",
            "310/310 [==============================] - 223s 719ms/step - loss: 1.6657 - accuracy: 0.2928 - val_loss: 1.6263 - val_accuracy: 0.3295 - lr: 5.0000e-04\n",
            "Epoch 10/100\n",
            "310/310 [==============================] - 220s 711ms/step - loss: 1.6530 - accuracy: 0.2968 - val_loss: 1.5996 - val_accuracy: 0.3410 - lr: 5.0000e-04\n",
            "Epoch 11/100\n",
            "310/310 [==============================] - 223s 717ms/step - loss: 1.6382 - accuracy: 0.3193 - val_loss: 1.6075 - val_accuracy: 0.3372 - lr: 5.0000e-04\n",
            "Epoch 12/100\n",
            "310/310 [==============================] - 225s 728ms/step - loss: 1.6102 - accuracy: 0.3267 - val_loss: 1.5630 - val_accuracy: 0.3333 - lr: 5.0000e-04\n",
            "Epoch 13/100\n",
            "310/310 [==============================] - 227s 732ms/step - loss: 1.5794 - accuracy: 0.3473 - val_loss: 1.5245 - val_accuracy: 0.3831 - lr: 5.0000e-04\n",
            "Epoch 14/100\n",
            "310/310 [==============================] - 224s 722ms/step - loss: 1.5429 - accuracy: 0.3576 - val_loss: 1.4756 - val_accuracy: 0.3985 - lr: 5.0000e-04\n",
            "Epoch 15/100\n",
            "310/310 [==============================] - 225s 725ms/step - loss: 1.5118 - accuracy: 0.3732 - val_loss: 1.4727 - val_accuracy: 0.3985 - lr: 5.0000e-04\n",
            "Epoch 16/100\n",
            "310/310 [==============================] - 215s 692ms/step - loss: 1.5107 - accuracy: 0.3867 - val_loss: 1.4557 - val_accuracy: 0.4023 - lr: 5.0000e-04\n",
            "Epoch 17/100\n",
            "310/310 [==============================] - 216s 696ms/step - loss: 1.4745 - accuracy: 0.4033 - val_loss: 1.4629 - val_accuracy: 0.4100 - lr: 5.0000e-04\n",
            "Epoch 18/100\n",
            "310/310 [==============================] - 227s 734ms/step - loss: 1.4493 - accuracy: 0.4096 - val_loss: 1.4571 - val_accuracy: 0.3946 - lr: 5.0000e-04\n",
            "Epoch 19/100\n",
            "310/310 [==============================] - 226s 728ms/step - loss: 1.4375 - accuracy: 0.4158 - val_loss: 1.4329 - val_accuracy: 0.4598 - lr: 5.0000e-04\n",
            "Epoch 20/100\n",
            "310/310 [==============================] - 222s 717ms/step - loss: 1.4087 - accuracy: 0.4381 - val_loss: 1.4469 - val_accuracy: 0.4253 - lr: 5.0000e-04\n",
            "Epoch 21/100\n",
            "310/310 [==============================] - 224s 721ms/step - loss: 1.3953 - accuracy: 0.4379 - val_loss: 1.4653 - val_accuracy: 0.4061 - lr: 5.0000e-04\n",
            "Epoch 22/100\n",
            "310/310 [==============================] - ETA: 0s - loss: 1.3542 - accuracy: 0.4427\n",
            "Epoch 22: ReduceLROnPlateau reducing learning rate to 0.0002500000118743628.\n",
            "310/310 [==============================] - 222s 716ms/step - loss: 1.3542 - accuracy: 0.4427 - val_loss: 1.4502 - val_accuracy: 0.4291 - lr: 5.0000e-04\n",
            "Epoch 23/100\n",
            "310/310 [==============================] - 217s 698ms/step - loss: 1.3166 - accuracy: 0.4710 - val_loss: 1.4560 - val_accuracy: 0.3946 - lr: 2.5000e-04\n",
            "Epoch 24/100\n",
            "310/310 [==============================] - 215s 692ms/step - loss: 1.2754 - accuracy: 0.4831 - val_loss: 1.4691 - val_accuracy: 0.4291 - lr: 2.5000e-04\n",
            "Epoch 25/100\n",
            "310/310 [==============================] - ETA: 0s - loss: 1.2587 - accuracy: 0.4926\n",
            "Epoch 25: ReduceLROnPlateau reducing learning rate to 0.0001250000059371814.\n",
            "310/310 [==============================] - 217s 699ms/step - loss: 1.2587 - accuracy: 0.4926 - val_loss: 1.4495 - val_accuracy: 0.4598 - lr: 2.5000e-04\n",
            "Epoch 26/100\n",
            "310/310 [==============================] - 225s 725ms/step - loss: 1.2001 - accuracy: 0.5189 - val_loss: 1.4798 - val_accuracy: 0.4253 - lr: 1.2500e-04\n",
            "Epoch 27/100\n",
            "310/310 [==============================] - 220s 711ms/step - loss: 1.1846 - accuracy: 0.5308 - val_loss: 1.5047 - val_accuracy: 0.4253 - lr: 1.2500e-04\n",
            "Epoch 28/100\n",
            "310/310 [==============================] - ETA: 0s - loss: 1.1729 - accuracy: 0.5381\n",
            "Epoch 28: ReduceLROnPlateau reducing learning rate to 0.0001.\n",
            "310/310 [==============================] - 224s 723ms/step - loss: 1.1729 - accuracy: 0.5381 - val_loss: 1.4927 - val_accuracy: 0.4406 - lr: 1.2500e-04\n",
            "Epoch 29/100\n",
            "310/310 [==============================] - 222s 716ms/step - loss: 1.1578 - accuracy: 0.5446 - val_loss: 1.5267 - val_accuracy: 0.4176 - lr: 1.0000e-04\n",
            "Epoch 30/100\n",
            "310/310 [==============================] - 222s 717ms/step - loss: 1.1384 - accuracy: 0.5433 - val_loss: 1.5391 - val_accuracy: 0.4291 - lr: 1.0000e-04\n",
            "Epoch 31/100\n",
            "310/310 [==============================] - 224s 721ms/step - loss: 1.1231 - accuracy: 0.5484 - val_loss: 1.5153 - val_accuracy: 0.4444 - lr: 1.0000e-04\n",
            "Epoch 32/100\n",
            "310/310 [==============================] - 220s 710ms/step - loss: 1.1025 - accuracy: 0.5638 - val_loss: 1.5371 - val_accuracy: 0.4406 - lr: 1.0000e-04\n",
            "Epoch 33/100\n",
            "310/310 [==============================] - 220s 711ms/step - loss: 1.0912 - accuracy: 0.5690 - val_loss: 1.5446 - val_accuracy: 0.4330 - lr: 1.0000e-04\n",
            "Epoch 34/100\n",
            "310/310 [==============================] - 218s 705ms/step - loss: 1.0735 - accuracy: 0.5724 - val_loss: 1.5462 - val_accuracy: 0.4291 - lr: 1.0000e-04\n",
            "Epoch 35/100\n",
            "310/310 [==============================] - 219s 707ms/step - loss: 1.0582 - accuracy: 0.5831 - val_loss: 1.5675 - val_accuracy: 0.4483 - lr: 1.0000e-04\n",
            "Epoch 36/100\n",
            "310/310 [==============================] - 229s 737ms/step - loss: 1.0408 - accuracy: 0.5920 - val_loss: 1.5628 - val_accuracy: 0.4330 - lr: 1.0000e-04\n",
            "Epoch 37/100\n",
            "310/310 [==============================] - 223s 720ms/step - loss: 1.0236 - accuracy: 0.5957 - val_loss: 1.5882 - val_accuracy: 0.4330 - lr: 1.0000e-04\n",
            "Epoch 38/100\n",
            "310/310 [==============================] - 222s 718ms/step - loss: 1.0072 - accuracy: 0.6082 - val_loss: 1.6286 - val_accuracy: 0.4330 - lr: 1.0000e-04\n",
            "Epoch 39/100\n",
            "310/310 [==============================] - 223s 721ms/step - loss: 0.9848 - accuracy: 0.6139 - val_loss: 1.5952 - val_accuracy: 0.4368 - lr: 1.0000e-04\n",
            "Epoch 40/100\n",
            "310/310 [==============================] - 216s 697ms/step - loss: 0.9881 - accuracy: 0.6082 - val_loss: 1.6101 - val_accuracy: 0.4215 - lr: 1.0000e-04\n",
            "Epoch 41/100\n",
            "310/310 [==============================] - 221s 715ms/step - loss: 0.9556 - accuracy: 0.6236 - val_loss: 1.6342 - val_accuracy: 0.4636 - lr: 1.0000e-04\n",
            "Epoch 42/100\n",
            "310/310 [==============================] - 222s 717ms/step - loss: 0.9456 - accuracy: 0.6331 - val_loss: 1.6830 - val_accuracy: 0.4406 - lr: 1.0000e-04\n",
            "Epoch 43/100\n",
            "310/310 [==============================] - 220s 711ms/step - loss: 0.9287 - accuracy: 0.6389 - val_loss: 1.7102 - val_accuracy: 0.4406 - lr: 1.0000e-04\n",
            "Epoch 44/100\n",
            "310/310 [==============================] - 223s 717ms/step - loss: 0.9169 - accuracy: 0.6496 - val_loss: 1.6611 - val_accuracy: 0.4291 - lr: 1.0000e-04\n",
            "Epoch 45/100\n",
            "310/310 [==============================] - 224s 722ms/step - loss: 0.8998 - accuracy: 0.6541 - val_loss: 1.6771 - val_accuracy: 0.4368 - lr: 1.0000e-04\n",
            "Epoch 46/100\n",
            "310/310 [==============================] - 223s 720ms/step - loss: 0.9056 - accuracy: 0.6476 - val_loss: 1.6984 - val_accuracy: 0.4521 - lr: 1.0000e-04\n",
            "Epoch 47/100\n",
            "310/310 [==============================] - 225s 727ms/step - loss: 0.8705 - accuracy: 0.6646 - val_loss: 1.7233 - val_accuracy: 0.4559 - lr: 1.0000e-04\n",
            "Epoch 48/100\n",
            "310/310 [==============================] - 218s 702ms/step - loss: 0.8506 - accuracy: 0.6684 - val_loss: 1.6981 - val_accuracy: 0.4138 - lr: 1.0000e-04\n",
            "Epoch 49/100\n",
            "310/310 [==============================] - 219s 707ms/step - loss: 0.8347 - accuracy: 0.6779 - val_loss: 1.7375 - val_accuracy: 0.4138 - lr: 1.0000e-04\n",
            "Epoch 50/100\n",
            "310/310 [==============================] - 214s 690ms/step - loss: 0.8111 - accuracy: 0.6886 - val_loss: 1.7346 - val_accuracy: 0.4444 - lr: 1.0000e-04\n",
            "Epoch 51/100\n",
            "310/310 [==============================] - 216s 696ms/step - loss: 0.8056 - accuracy: 0.6915 - val_loss: 1.7314 - val_accuracy: 0.4368 - lr: 1.0000e-04\n",
            "Epoch 52/100\n",
            "310/310 [==============================] - 217s 701ms/step - loss: 0.7807 - accuracy: 0.7003 - val_loss: 1.8049 - val_accuracy: 0.4176 - lr: 1.0000e-04\n",
            "Epoch 53/100\n",
            "310/310 [==============================] - 216s 695ms/step - loss: 0.7630 - accuracy: 0.7058 - val_loss: 1.7598 - val_accuracy: 0.4559 - lr: 1.0000e-04\n",
            "Epoch 54/100\n",
            "310/310 [==============================] - 216s 698ms/step - loss: 0.7612 - accuracy: 0.7102 - val_loss: 1.7967 - val_accuracy: 0.4368 - lr: 1.0000e-04\n",
            "Epoch 55/100\n",
            "310/310 [==============================] - 224s 724ms/step - loss: 0.7460 - accuracy: 0.7169 - val_loss: 1.7823 - val_accuracy: 0.4330 - lr: 1.0000e-04\n",
            "Epoch 56/100\n",
            "310/310 [==============================] - 223s 720ms/step - loss: 0.7203 - accuracy: 0.7234 - val_loss: 1.8432 - val_accuracy: 0.4215 - lr: 1.0000e-04\n",
            "Epoch 57/100\n",
            "310/310 [==============================] - 217s 699ms/step - loss: 0.6998 - accuracy: 0.7315 - val_loss: 1.8108 - val_accuracy: 0.4253 - lr: 1.0000e-04\n",
            "Epoch 58/100\n",
            "310/310 [==============================] - 216s 697ms/step - loss: 0.6738 - accuracy: 0.7391 - val_loss: 1.8483 - val_accuracy: 0.4100 - lr: 1.0000e-04\n",
            "Epoch 59/100\n",
            "310/310 [==============================] - 218s 700ms/step - loss: 0.6659 - accuracy: 0.7484 - val_loss: 1.9164 - val_accuracy: 0.4253 - lr: 1.0000e-04\n",
            "Epoch 60/100\n",
            "310/310 [==============================] - 213s 687ms/step - loss: 0.6476 - accuracy: 0.7565 - val_loss: 1.8621 - val_accuracy: 0.4215 - lr: 1.0000e-04\n",
            "Epoch 61/100\n",
            "310/310 [==============================] - 213s 689ms/step - loss: 0.6311 - accuracy: 0.7624 - val_loss: 1.8702 - val_accuracy: 0.4291 - lr: 1.0000e-04\n",
            "Epoch 62/100\n",
            "310/310 [==============================] - 217s 699ms/step - loss: 0.6044 - accuracy: 0.7773 - val_loss: 1.9283 - val_accuracy: 0.4253 - lr: 1.0000e-04\n",
            "Epoch 63/100\n",
            "310/310 [==============================] - 219s 705ms/step - loss: 0.5836 - accuracy: 0.7802 - val_loss: 1.9228 - val_accuracy: 0.4215 - lr: 1.0000e-04\n",
            "Epoch 64/100\n",
            "310/310 [==============================] - 216s 698ms/step - loss: 0.5880 - accuracy: 0.7793 - val_loss: 1.9722 - val_accuracy: 0.4253 - lr: 1.0000e-04\n",
            "Epoch 65/100\n",
            "310/310 [==============================] - 228s 735ms/step - loss: 0.5695 - accuracy: 0.7852 - val_loss: 1.9517 - val_accuracy: 0.4444 - lr: 1.0000e-04\n",
            "Epoch 66/100\n",
            "310/310 [==============================] - 219s 706ms/step - loss: 0.5285 - accuracy: 0.8026 - val_loss: 2.0773 - val_accuracy: 0.4559 - lr: 1.0000e-04\n",
            "Epoch 67/100\n",
            "310/310 [==============================] - 219s 706ms/step - loss: 0.5256 - accuracy: 0.8010 - val_loss: 2.0557 - val_accuracy: 0.4368 - lr: 1.0000e-04\n",
            "Epoch 68/100\n",
            "310/310 [==============================] - 220s 712ms/step - loss: 0.5227 - accuracy: 0.7989 - val_loss: 2.1274 - val_accuracy: 0.4483 - lr: 1.0000e-04\n",
            "Epoch 69/100\n",
            "310/310 [==============================] - 220s 710ms/step - loss: 0.5021 - accuracy: 0.8117 - val_loss: 2.1950 - val_accuracy: 0.4176 - lr: 1.0000e-04\n",
            "Epoch 70/100\n",
            "310/310 [==============================] - 222s 718ms/step - loss: 0.4731 - accuracy: 0.8220 - val_loss: 2.0581 - val_accuracy: 0.4291 - lr: 1.0000e-04\n",
            "Epoch 71/100\n",
            "310/310 [==============================] - 222s 715ms/step - loss: 0.4708 - accuracy: 0.8276 - val_loss: 2.0806 - val_accuracy: 0.4176 - lr: 1.0000e-04\n",
            "Epoch 72/100\n",
            " 87/310 [=======>......................] - ETA: 2:36 - loss: 0.4371 - accuracy: 0.8362"
          ]
        }
      ],
      "source": [
        "model.fit(train_1d,label_1d,epochs = 100,validation_data=(X_valid_1d,y_valid_1d), batch_size=16, callbacks = [lr_reduction])"
      ]
    },
    {
      "cell_type": "code",
      "execution_count": null,
      "metadata": {
        "colab": {
          "base_uri": "https://localhost:8080/",
          "height": 165
        },
        "id": "RHBStP6MF9Jq",
        "outputId": "2657a852-b58f-4d04-998b-e68f665576b4"
      },
      "outputs": [
        {
          "ename": "NameError",
          "evalue": "ignored",
          "output_type": "error",
          "traceback": [
            "\u001b[0;31m---------------------------------------------------------------------------\u001b[0m",
            "\u001b[0;31mNameError\u001b[0m                                 Traceback (most recent call last)",
            "\u001b[0;32m<ipython-input-1-e44ae424af6e>\u001b[0m in \u001b[0;36m<cell line: 1>\u001b[0;34m()\u001b[0m\n\u001b[0;32m----> 1\u001b[0;31m \u001b[0mmodel\u001b[0m\u001b[0;34m.\u001b[0m\u001b[0mevaluate\u001b[0m\u001b[0;34m(\u001b[0m\u001b[0mtest_1d\u001b[0m\u001b[0;34m,\u001b[0m\u001b[0mlabel_test_1d\u001b[0m\u001b[0;34m)\u001b[0m\u001b[0;34m\u001b[0m\u001b[0;34m\u001b[0m\u001b[0m\n\u001b[0m",
            "\u001b[0;31mNameError\u001b[0m: name 'model' is not defined"
          ]
        }
      ],
      "source": [
        "model.evaluate(test_1d,label_test_1d)"
      ]
    },
    {
      "cell_type": "code",
      "execution_count": null,
      "metadata": {
        "id": "P3by_CFrDO-T"
      },
      "outputs": [],
      "source": [
        "y_pred_1d = model.predict(test_1d)\n",
        "y_pred_1d = np.argmax(y_pred_1d, axis=1)\n",
        "y_pred_1d"
      ]
    },
    {
      "cell_type": "code",
      "execution_count": null,
      "metadata": {
        "id": "UzNRw_g1DXCA"
      },
      "outputs": [],
      "source": [
        "y_check_1d = np.argmax(label_test_1d, axis=1)\n",
        "y_check_1d"
      ]
    },
    {
      "cell_type": "code",
      "execution_count": null,
      "metadata": {
        "id": "09PtcMQMDirT"
      },
      "outputs": [],
      "source": [
        "from sklearn.metrics import confusion_matrix\n",
        "\n",
        "cm_1d = confusion_matrix(y_true=y_check_1d, y_pred=y_pred_1d)"
      ]
    },
    {
      "cell_type": "code",
      "execution_count": null,
      "metadata": {
        "id": "ZZuGn4AkDz3X"
      },
      "outputs": [],
      "source": [
        "def plot_confusion_matrix(cm, classes,\n",
        "                        normalize=False,  #can change to true\n",
        "                        title='Confusion matrix',\n",
        "                        cmap=plt.cm.Blues):\n",
        "\n",
        "    plt.imshow(cm, interpolation='nearest', cmap=cmap)\n",
        "    plt.title(title)\n",
        "    plt.colorbar()\n",
        "    tick_marks = np.arange(len(classes))\n",
        "    plt.xticks(tick_marks, classes, rotation=45)\n",
        "    plt.yticks(tick_marks, classes)\n",
        "\n",
        "    if normalize:\n",
        "        cm = cm.astype('float') / cm.sum(axis=1)[:, np.newaxis]\n",
        "        print(\"Normalized confusion matrix\")\n",
        "    else:\n",
        "        print('Confusion matrix, without normalization')\n",
        "\n",
        "    print(cm)\n",
        "\n",
        "    thresh = cm.max() / 2.\n",
        "    for i, j in itertools.product(range(cm.shape[0]), range(cm.shape[1])):\n",
        "        plt.text(j, i, cm[i, j],\n",
        "            horizontalalignment=\"center\",\n",
        "            color=\"white\" if cm[i, j] > thresh else \"black\")\n",
        "\n",
        "    plt.tight_layout()\n",
        "    plt.ylabel('True label')\n",
        "    plt.xlabel('Predicted label')"
      ]
    },
    {
      "cell_type": "code",
      "execution_count": null,
      "metadata": {
        "id": "m15ka0PaEVY6"
      },
      "outputs": [],
      "source": [
        "cm_plot_labels_1d = ['angry', 'disgust', 'fear', 'happy', 'neutral', 'sad', 'surprise']\n",
        "plot_confusion_matrix(cm=cm_1d, classes=cm_plot_labels_1d, title='Confusion Matrix')"
      ]
    },
    {
      "cell_type": "code",
      "execution_count": null,
      "metadata": {
        "id": "XRrZhwKnEjlO"
      },
      "outputs": [],
      "source": []
    },
    {
      "cell_type": "markdown",
      "metadata": {
        "id": "B-pLjqgrCaz3"
      },
      "source": [
        "**Extracting Mel Spectrogram Feature**"
      ]
    },
    {
      "cell_type": "code",
      "execution_count": null,
      "metadata": {
        "colab": {
          "base_uri": "https://localhost:8080/"
        },
        "id": "sM2YL0-Yec2c",
        "outputId": "bf44e7fc-ea45-44e7-ed09-4470b4dd071b"
      },
      "outputs": [
        {
          "data": {
            "text/plain": [
              "7443"
            ]
          },
          "execution_count": 11,
          "metadata": {},
          "output_type": "execute_result"
        }
      ],
      "source": [
        "np.shape(Crema_df)[0]"
      ]
    },
    {
      "cell_type": "code",
      "execution_count": null,
      "metadata": {
        "colab": {
          "base_uri": "https://localhost:8080/",
          "height": 35
        },
        "id": "LplvuyM7e5UR",
        "outputId": "0460864d-1ae9-4933-d679-55d1687c577e"
      },
      "outputs": [
        {
          "data": {
            "application/vnd.google.colaboratory.intrinsic+json": {
              "type": "string"
            },
            "text/plain": [
              "'/content/drive/My Drive/Crema/1080_IOM_SAD_XX.wav'"
            ]
          },
          "execution_count": 21,
          "metadata": {},
          "output_type": "execute_result"
        }
      ],
      "source": [
        "Crema_df[\"Path\"][3]"
      ]
    },
    {
      "cell_type": "code",
      "execution_count": null,
      "metadata": {
        "colab": {
          "background_save": true
        },
        "id": "B5bO8sqDCgND"
      },
      "outputs": [],
      "source": [
        "melspect = []\n",
        "for i in range (np.shape(Crema_df)[0]):\n",
        "  data,sr = librosa.load(Crema_df[\"Path\"][i])\n",
        "  frame_length=2048\n",
        "  hop_length=512\n",
        "  flatten: bool = True\n",
        "  x = librosa.feature.melspectrogram(y=data, sr=sr)\n",
        "  if x.shape[1] < 216:\n",
        "        tobeadded = 216 - x.shape[1] #To know how many zero column we will add\n",
        "        zeros = np.zeros((128, tobeadded))\n",
        "        x = np.hstack((x, zeros)) # adding the columns\n",
        "  melspect.append(x)"
      ]
    },
    {
      "cell_type": "code",
      "execution_count": null,
      "metadata": {
        "colab": {
          "background_save": true
        },
        "id": "MTxwRIMVVnAz",
        "outputId": "e4dd8a03-bfbd-4c35-a2e9-16f38a5c78bd"
      },
      "outputs": [
        {
          "data": {
            "text/plain": [
              "74309"
            ]
          },
          "execution_count": 13,
          "metadata": {},
          "output_type": "execute_result"
        }
      ],
      "source": [
        "len(data)"
      ]
    },
    {
      "cell_type": "code",
      "execution_count": null,
      "metadata": {
        "colab": {
          "background_save": true
        },
        "id": "sbrkPYKTIcEH",
        "outputId": "e10fd095-d833-4ce4-ac8e-d61065584d50"
      },
      "outputs": [
        {
          "data": {
            "text/plain": [
              "(7443, 128, 216)"
            ]
          },
          "execution_count": 14,
          "metadata": {},
          "output_type": "execute_result"
        }
      ],
      "source": [
        "np.shape(melspect)"
      ]
    },
    {
      "cell_type": "code",
      "execution_count": null,
      "metadata": {
        "id": "DsD-JnkPSLT5"
      },
      "outputs": [],
      "source": [
        "#melspect"
      ]
    },
    {
      "cell_type": "code",
      "execution_count": null,
      "metadata": {
        "colab": {
          "background_save": true
        },
        "id": "wpS0pqCnRqEF"
      },
      "outputs": [],
      "source": [
        "#Normalizing the data\n",
        "for i in range(0, len(melspect)):\n",
        "    scaler=StandardScaler()\n",
        "    melspect[i] = scaler.fit_transform(melspect[i])"
      ]
    },
    {
      "cell_type": "code",
      "execution_count": null,
      "metadata": {
        "colab": {
          "background_save": true
        },
        "id": "ktubJoz7WKUt"
      },
      "outputs": [],
      "source": [
        "#label encoding for changing label to categorical features\n",
        "label_encoder = preprocessing.LabelEncoder()\n",
        "emotions= label_encoder.fit_transform(Crema_df[\"Emotion\"])\n",
        "df_y = keras.utils.to_categorical(emotions,num_classes=6)"
      ]
    },
    {
      "cell_type": "code",
      "execution_count": null,
      "metadata": {
        "colab": {
          "background_save": true
        },
        "id": "epbuJonZgSPH",
        "outputId": "3ff2d81d-d125-44d4-b94c-33b43b5f7d29"
      },
      "outputs": [
        {
          "data": {
            "text/plain": [
              "(7443, 6)"
            ]
          },
          "execution_count": 17,
          "metadata": {},
          "output_type": "execute_result"
        }
      ],
      "source": [
        "np.shape(df_y)"
      ]
    },
    {
      "cell_type": "code",
      "execution_count": null,
      "metadata": {
        "colab": {
          "background_save": true
        },
        "id": "ZdJHnpiBhNp6",
        "outputId": "1c9b0ac3-e2b2-41f5-ab27-3f159b496ba2"
      },
      "outputs": [
        {
          "data": {
            "text/plain": [
              "array([[0., 0., 0., 0., 0., 1.],\n",
              "       [1., 0., 0., 0., 0., 0.],\n",
              "       [0., 0., 0., 1., 0., 0.],\n",
              "       ...,\n",
              "       [0., 0., 0., 0., 0., 1.],\n",
              "       [0., 0., 1., 0., 0., 0.],\n",
              "       [0., 1., 0., 0., 0., 0.]], dtype=float32)"
            ]
          },
          "execution_count": 18,
          "metadata": {},
          "output_type": "execute_result"
        }
      ],
      "source": [
        "df_y"
      ]
    },
    {
      "cell_type": "code",
      "execution_count": null,
      "metadata": {
        "colab": {
          "background_save": true
        },
        "id": "45s2D787hZ-Z"
      },
      "outputs": [],
      "source": [
        "df_y = np.array(df_y)"
      ]
    },
    {
      "cell_type": "code",
      "execution_count": null,
      "metadata": {
        "colab": {
          "background_save": true
        },
        "id": "4gA76vbGTfwX"
      },
      "outputs": [],
      "source": [
        "X_train, X_test, y_train, y_test = train_test_split(melspect, df_y, train_size = 0.7, stratify = df_y , random_state=42)"
      ]
    },
    {
      "cell_type": "code",
      "execution_count": null,
      "metadata": {
        "colab": {
          "background_save": true
        },
        "id": "gh1p-jXglMzZ"
      },
      "outputs": [],
      "source": [
        "X_train, X_valid, y_train, y_valid = train_test_split(X_train, y_train, train_size = 0.95, stratify = y_train , random_state=42)"
      ]
    },
    {
      "cell_type": "markdown",
      "metadata": {
        "id": "kgVfKBwTYsWw"
      },
      "source": [
        "**Data Augmentation**"
      ]
    },
    {
      "cell_type": "markdown",
      "metadata": {
        "id": "hwE7HGrHY0I-"
      },
      "source": [
        "We have some ways for data augmentation in sound data:\n",
        "\n",
        "Noise injection\n",
        "Stretching\n",
        "Shifting\n",
        "Pitching"
      ]
    },
    {
      "cell_type": "code",
      "execution_count": null,
      "metadata": {
        "id": "QELIGk7gLugs"
      },
      "outputs": [],
      "source": [
        "def noisy_signal(signal,snr_low=15,snr_high=30,nb_augmented=2):\n",
        "\n",
        "  signal_len = len(signal)\n",
        "  noise = np.random.normal(size = (nb_augmented,signal_len))\n",
        "\n",
        "  #compute signal & noise power\n",
        "  s_power = np.sum((signal / (2.0 ** 15)) ** 2 ) / signal_len\n",
        "  n_power = np.sum((noise / (2.0 ** 15)) ** 2 , axis = 1 ) / signal_len\n",
        "  snr = np.random.randint(snr_low , snr_high)\n",
        "\n",
        "  #compute k coeff for each signal\n",
        "  k = np.sqrt((s_power / n_power) * 10) ** (- snr / 10)\n",
        "  k = np.ones((nb_augmented, signal_len )) * k\n",
        "\n",
        "  return signal + k.T * noise"
      ]
    },
    {
      "cell_type": "markdown",
      "metadata": {
        "id": "V8nHwW2sBIPp"
      },
      "source": [
        "**Convolution Neural Network Model for 2D Melspectrogram**"
      ]
    },
    {
      "cell_type": "code",
      "execution_count": null,
      "metadata": {
        "id": "tlG_3rizBSx_"
      },
      "outputs": [],
      "source": [
        "train = tf.convert_to_tensor(X_train)\n",
        "label = tf.convert_to_tensor(y_train)"
      ]
    },
    {
      "cell_type": "code",
      "execution_count": null,
      "metadata": {
        "id": "CLctHBiqhmX-"
      },
      "outputs": [],
      "source": [
        "test = tf.convert_to_tensor(X_test)\n",
        "label_test = tf.convert_to_tensor(y_test)"
      ]
    },
    {
      "cell_type": "code",
      "execution_count": null,
      "metadata": {
        "id": "RkOMQPQ3lmA3"
      },
      "outputs": [],
      "source": [
        "X_valid = tf.convert_to_tensor(X_valid)\n",
        "y_valid = tf.convert_to_tensor(y_valid)"
      ]
    },
    {
      "cell_type": "code",
      "execution_count": null,
      "metadata": {
        "id": "ThDtvcelVpSu"
      },
      "outputs": [],
      "source": [
        "np.shape(train)"
      ]
    },
    {
      "cell_type": "code",
      "execution_count": null,
      "metadata": {
        "id": "EH4F3o1OXsom"
      },
      "outputs": [],
      "source": [
        "np.shape(label)"
      ]
    },
    {
      "cell_type": "markdown",
      "metadata": {
        "id": "8KKN0_qD-T2N"
      },
      "source": [
        "model = Sequential()\n",
        "model.add(Conv2D(32,3,data_format='channels_last',activation='relu',input_shape=(128,216,1)))\n",
        "model.add(MaxPooling2D(pool_size=(2,2)))\n",
        "model.add(Flatten())\n",
        "model.add(Dense(100))\n",
        "model.add(Dropout(0.5))\n",
        "model.add(Dense(6))\n",
        "model.add(Activation('softmax'))\n",
        "model.compile(loss='categorical_crossentropy', optimizer = 'adadelta', metrics = ['accuracy'])"
      ]
    },
    {
      "cell_type": "code",
      "execution_count": null,
      "metadata": {
        "id": "UOzNTKCjsYwt"
      },
      "outputs": [],
      "source": [
        "model_spect = Sequential()\n",
        "model_spect.add(Conv2D(16,kernel_size =(5, 5), strides =(1, 1),\n",
        "                 activation ='relu',padding=\"same\", input_shape=(128, 216, 1)))\n",
        "model_spect.add(MaxPooling2D(pool_size =(2, 2), strides =(2, 2),padding = \"valid\"))\n",
        "model_spect.add(BatchNormalization())\n",
        "\n",
        "model_spect.add(Conv2D(32, (5, 5), activation ='relu',padding=\"same\"))\n",
        "model_spect.add(MaxPooling2D(pool_size =(2, 2),padding = \"valid\"))\n",
        "model_spect.add(BatchNormalization())\n",
        "\n",
        "model_spect.add(Conv2D(64, (3, 3), activation ='relu',padding=\"same\"))\n",
        "model_spect.add(MaxPooling2D(pool_size =(2, 2),padding = \"valid\"))\n",
        "model_spect.add(BatchNormalization())\n",
        "\n",
        "model_spect.add(Conv2D(128, (3, 3), activation ='relu',padding=\"same\"))\n",
        "model_spect.add(MaxPooling2D(pool_size =(2, 2),padding = \"valid\"))\n",
        "\n",
        "model_spect.add(Dropout(0.8))\n",
        "\n",
        "model_spect.add(Flatten())\n",
        "model_spect.add(Dense(500, activation ='relu',kernel_regularizer=regularizers.l2(0.01)))\n",
        "model_spect.add(Dense(128, activation ='relu'))\n",
        "model_spect.add(Dense(64, activation ='relu'))\n",
        "model_spect.add(Dense(32, activation ='relu'))\n",
        "model_spect.add(Dense(16, activation ='relu'))\n",
        "model_spect.add(BatchNormalization())\n",
        "model_spect.add(Dense(6, activation ='softmax'))\n",
        "\n",
        "model_spect.compile(loss='categorical_crossentropy', optimizer = 'adam', metrics = ['accuracy'])"
      ]
    },
    {
      "cell_type": "code",
      "execution_count": null,
      "metadata": {
        "colab": {
          "base_uri": "https://localhost:8080/"
        },
        "id": "jJp7D3YVTYcN",
        "outputId": "64fff06b-28a5-4f8b-8c5f-a92b60321c44"
      },
      "outputs": [
        {
          "name": "stdout",
          "output_type": "stream",
          "text": [
            "Model: \"sequential_6\"\n",
            "_________________________________________________________________\n",
            " Layer (type)                Output Shape              Param #   \n",
            "=================================================================\n",
            " conv2d_22 (Conv2D)          (None, 128, 216, 16)      416       \n",
            "                                                                 \n",
            " max_pooling2d_22 (MaxPoolin  (None, 64, 108, 16)      0         \n",
            " g2D)                                                            \n",
            "                                                                 \n",
            " batch_normalization_20 (Bat  (None, 64, 108, 16)      64        \n",
            " chNormalization)                                                \n",
            "                                                                 \n",
            " conv2d_23 (Conv2D)          (None, 64, 108, 32)       12832     \n",
            "                                                                 \n",
            " max_pooling2d_23 (MaxPoolin  (None, 32, 54, 32)       0         \n",
            " g2D)                                                            \n",
            "                                                                 \n",
            " batch_normalization_21 (Bat  (None, 32, 54, 32)       128       \n",
            " chNormalization)                                                \n",
            "                                                                 \n",
            " conv2d_24 (Conv2D)          (None, 32, 54, 64)        18496     \n",
            "                                                                 \n",
            " max_pooling2d_24 (MaxPoolin  (None, 16, 27, 64)       0         \n",
            " g2D)                                                            \n",
            "                                                                 \n",
            " batch_normalization_22 (Bat  (None, 16, 27, 64)       256       \n",
            " chNormalization)                                                \n",
            "                                                                 \n",
            " conv2d_25 (Conv2D)          (None, 16, 27, 128)       73856     \n",
            "                                                                 \n",
            " max_pooling2d_25 (MaxPoolin  (None, 8, 13, 128)       0         \n",
            " g2D)                                                            \n",
            "                                                                 \n",
            " dropout_6 (Dropout)         (None, 8, 13, 128)        0         \n",
            "                                                                 \n",
            " flatten_6 (Flatten)         (None, 13312)             0         \n",
            "                                                                 \n",
            " dense_35 (Dense)            (None, 500)               6656500   \n",
            "                                                                 \n",
            " dense_36 (Dense)            (None, 128)               64128     \n",
            "                                                                 \n",
            " dense_37 (Dense)            (None, 64)                8256      \n",
            "                                                                 \n",
            " dense_38 (Dense)            (None, 32)                2080      \n",
            "                                                                 \n",
            " dense_39 (Dense)            (None, 16)                528       \n",
            "                                                                 \n",
            " batch_normalization_23 (Bat  (None, 16)               64        \n",
            " chNormalization)                                                \n",
            "                                                                 \n",
            " dense_40 (Dense)            (None, 6)                 102       \n",
            "                                                                 \n",
            "=================================================================\n",
            "Total params: 6,837,706\n",
            "Trainable params: 6,837,450\n",
            "Non-trainable params: 256\n",
            "_________________________________________________________________\n"
          ]
        }
      ],
      "source": [
        "model_spect.summary()"
      ]
    },
    {
      "cell_type": "code",
      "execution_count": null,
      "metadata": {
        "id": "z1bjPPzIm_E_"
      },
      "outputs": [],
      "source": [
        "from tensorflow.keras.callbacks import EarlyStopping, ReduceLROnPlateau\n",
        "early_stop=EarlyStopping(monitor='val_accuracy',mode='auto',patience=5,restore_best_weights=True)\n",
        "lr_reduction=ReduceLROnPlateau(monitor='val_accuracy',patience=3,verbose=1,factor=0.5,min_lr=0.00001)"
      ]
    },
    {
      "cell_type": "code",
      "execution_count": null,
      "metadata": {
        "colab": {
          "background_save": true,
          "base_uri": "https://localhost:8080/"
        },
        "id": "lfeUcG5-TcZ9",
        "outputId": "79a87f26-dd13-4976-b35e-c35ae519fc2c"
      },
      "outputs": [
        {
          "name": "stdout",
          "output_type": "stream",
          "text": [
            "Epoch 1/60\n",
            "495/495 [==============================] - 13s 15ms/step - loss: 1.6851 - accuracy: 0.2974 - val_loss: 1.5481 - val_accuracy: 0.3487 - lr: 0.0010\n",
            "Epoch 2/60\n",
            "495/495 [==============================] - 7s 14ms/step - loss: 1.5542 - accuracy: 0.3488 - val_loss: 1.6982 - val_accuracy: 0.2989 - lr: 0.0010\n",
            "Epoch 3/60\n",
            "495/495 [==============================] - 7s 14ms/step - loss: 1.4944 - accuracy: 0.3918 - val_loss: 1.4294 - val_accuracy: 0.3870 - lr: 0.0010\n",
            "Epoch 4/60\n",
            "495/495 [==============================] - 7s 14ms/step - loss: 1.4605 - accuracy: 0.4106 - val_loss: 1.4535 - val_accuracy: 0.4253 - lr: 0.0010\n",
            "Epoch 5/60\n",
            "495/495 [==============================] - 7s 14ms/step - loss: 1.4450 - accuracy: 0.4160 - val_loss: 1.4829 - val_accuracy: 0.4061 - lr: 0.0010\n",
            "Epoch 6/60\n",
            "495/495 [==============================] - 7s 14ms/step - loss: 1.3834 - accuracy: 0.4480 - val_loss: 1.3923 - val_accuracy: 0.4291 - lr: 0.0010\n",
            "Epoch 7/60\n",
            "495/495 [==============================] - 7s 14ms/step - loss: 1.3536 - accuracy: 0.4637 - val_loss: 1.4646 - val_accuracy: 0.3831 - lr: 0.0010\n",
            "Epoch 8/60\n",
            "495/495 [==============================] - 7s 14ms/step - loss: 1.3587 - accuracy: 0.4516 - val_loss: 1.2937 - val_accuracy: 0.4943 - lr: 0.0010\n",
            "Epoch 9/60\n",
            "495/495 [==============================] - 7s 14ms/step - loss: 1.3285 - accuracy: 0.4740 - val_loss: 1.2710 - val_accuracy: 0.4828 - lr: 0.0010\n",
            "Epoch 10/60\n",
            "495/495 [==============================] - 7s 15ms/step - loss: 1.2924 - accuracy: 0.4987 - val_loss: 1.4007 - val_accuracy: 0.4406 - lr: 0.0010\n",
            "Epoch 11/60\n",
            "494/495 [============================>.] - ETA: 0s - loss: 1.2632 - accuracy: 0.5158\n",
            "Epoch 11: ReduceLROnPlateau reducing learning rate to 0.0005000000237487257.\n",
            "495/495 [==============================] - 7s 14ms/step - loss: 1.2635 - accuracy: 0.5151 - val_loss: 1.4536 - val_accuracy: 0.4100 - lr: 0.0010\n",
            "Epoch 12/60\n",
            "495/495 [==============================] - 7s 14ms/step - loss: 1.1870 - accuracy: 0.5379 - val_loss: 1.2377 - val_accuracy: 0.5211 - lr: 5.0000e-04\n",
            "Epoch 13/60\n",
            "495/495 [==============================] - 7s 14ms/step - loss: 1.1487 - accuracy: 0.5605 - val_loss: 1.2505 - val_accuracy: 0.5402 - lr: 5.0000e-04\n",
            "Epoch 14/60\n",
            "495/495 [==============================] - 7s 15ms/step - loss: 1.1013 - accuracy: 0.5872 - val_loss: 1.3494 - val_accuracy: 0.4636 - lr: 5.0000e-04\n",
            "Epoch 15/60\n",
            "495/495 [==============================] - 7s 14ms/step - loss: 1.0815 - accuracy: 0.5880 - val_loss: 1.1813 - val_accuracy: 0.5402 - lr: 5.0000e-04\n",
            "Epoch 16/60\n",
            "495/495 [==============================] - 7s 15ms/step - loss: 1.0748 - accuracy: 0.5941 - val_loss: 1.2369 - val_accuracy: 0.5556 - lr: 5.0000e-04\n",
            "Epoch 17/60\n",
            "495/495 [==============================] - 7s 14ms/step - loss: 1.0625 - accuracy: 0.5920 - val_loss: 1.2141 - val_accuracy: 0.5211 - lr: 5.0000e-04\n",
            "Epoch 18/60\n",
            "495/495 [==============================] - 7s 14ms/step - loss: 0.9748 - accuracy: 0.6438 - val_loss: 1.1690 - val_accuracy: 0.5402 - lr: 5.0000e-04\n",
            "Epoch 19/60\n",
            "493/495 [============================>.] - ETA: 0s - loss: 0.9362 - accuracy: 0.6509\n",
            "Epoch 19: ReduceLROnPlateau reducing learning rate to 0.0002500000118743628.\n",
            "495/495 [==============================] - 7s 14ms/step - loss: 0.9366 - accuracy: 0.6506 - val_loss: 1.2299 - val_accuracy: 0.5287 - lr: 5.0000e-04\n",
            "Epoch 20/60\n",
            "495/495 [==============================] - 7s 15ms/step - loss: 0.8702 - accuracy: 0.6822 - val_loss: 1.2935 - val_accuracy: 0.5172 - lr: 2.5000e-04\n",
            "Epoch 21/60\n",
            "495/495 [==============================] - 7s 14ms/step - loss: 0.8541 - accuracy: 0.6961 - val_loss: 1.2648 - val_accuracy: 0.5249 - lr: 2.5000e-04\n",
            "Epoch 22/60\n",
            "493/495 [============================>.] - ETA: 0s - loss: 0.9284 - accuracy: 0.6576\n",
            "Epoch 22: ReduceLROnPlateau reducing learning rate to 0.0001250000059371814.\n",
            "495/495 [==============================] - 7s 15ms/step - loss: 0.9282 - accuracy: 0.6577 - val_loss: 1.2327 - val_accuracy: 0.5249 - lr: 2.5000e-04\n",
            "Epoch 23/60\n",
            "495/495 [==============================] - 7s 14ms/step - loss: 0.8577 - accuracy: 0.6852 - val_loss: 1.2312 - val_accuracy: 0.5057 - lr: 1.2500e-04\n",
            "Epoch 24/60\n",
            "495/495 [==============================] - 7s 14ms/step - loss: 0.8025 - accuracy: 0.7115 - val_loss: 1.2444 - val_accuracy: 0.5364 - lr: 1.2500e-04\n",
            "Epoch 25/60\n",
            "494/495 [============================>.] - ETA: 0s - loss: 0.7810 - accuracy: 0.7206\n",
            "Epoch 25: ReduceLROnPlateau reducing learning rate to 6.25000029685907e-05.\n",
            "495/495 [==============================] - 7s 14ms/step - loss: 0.7805 - accuracy: 0.7210 - val_loss: 1.2604 - val_accuracy: 0.5172 - lr: 1.2500e-04\n",
            "Epoch 26/60\n",
            "495/495 [==============================] - 7s 15ms/step - loss: 0.7688 - accuracy: 0.7266 - val_loss: 1.2746 - val_accuracy: 0.5057 - lr: 6.2500e-05\n",
            "Epoch 27/60\n",
            "495/495 [==============================] - 7s 14ms/step - loss: 0.7361 - accuracy: 0.7397 - val_loss: 1.2907 - val_accuracy: 0.5096 - lr: 6.2500e-05\n",
            "Epoch 28/60\n",
            "495/495 [==============================] - ETA: 0s - loss: 0.7244 - accuracy: 0.7462\n",
            "Epoch 28: ReduceLROnPlateau reducing learning rate to 3.125000148429535e-05.\n",
            "495/495 [==============================] - 7s 15ms/step - loss: 0.7244 - accuracy: 0.7462 - val_loss: 1.2905 - val_accuracy: 0.5134 - lr: 6.2500e-05\n",
            "Epoch 29/60\n",
            "495/495 [==============================] - 7s 14ms/step - loss: 0.7314 - accuracy: 0.7470 - val_loss: 1.2941 - val_accuracy: 0.5249 - lr: 3.1250e-05\n",
            "Epoch 30/60\n",
            "495/495 [==============================] - 7s 14ms/step - loss: 0.7194 - accuracy: 0.7466 - val_loss: 1.2944 - val_accuracy: 0.5249 - lr: 3.1250e-05\n",
            "Epoch 31/60\n",
            "494/495 [============================>.] - ETA: 0s - loss: 0.7060 - accuracy: 0.7496\n",
            "Epoch 31: ReduceLROnPlateau reducing learning rate to 1.5625000742147677e-05.\n",
            "495/495 [==============================] - 7s 13ms/step - loss: 0.7058 - accuracy: 0.7496 - val_loss: 1.2922 - val_accuracy: 0.5249 - lr: 3.1250e-05\n",
            "Epoch 32/60\n",
            "495/495 [==============================] - 7s 15ms/step - loss: 0.7001 - accuracy: 0.7630 - val_loss: 1.2941 - val_accuracy: 0.5172 - lr: 1.5625e-05\n",
            "Epoch 33/60\n",
            "495/495 [==============================] - 7s 14ms/step - loss: 0.6998 - accuracy: 0.7614 - val_loss: 1.3044 - val_accuracy: 0.5211 - lr: 1.5625e-05\n",
            "Epoch 34/60\n",
            "492/495 [============================>.] - ETA: 0s - loss: 0.6815 - accuracy: 0.7654\n",
            "Epoch 34: ReduceLROnPlateau reducing learning rate to 1e-05.\n",
            "495/495 [==============================] - 7s 15ms/step - loss: 0.6802 - accuracy: 0.7658 - val_loss: 1.3067 - val_accuracy: 0.5211 - lr: 1.5625e-05\n",
            "Epoch 35/60\n",
            "495/495 [==============================] - 7s 14ms/step - loss: 0.6856 - accuracy: 0.7593 - val_loss: 1.3132 - val_accuracy: 0.5134 - lr: 1.0000e-05\n",
            "Epoch 36/60\n",
            "495/495 [==============================] - 7s 15ms/step - loss: 0.6796 - accuracy: 0.7620 - val_loss: 1.3126 - val_accuracy: 0.5211 - lr: 1.0000e-05\n",
            "Epoch 37/60\n",
            "495/495 [==============================] - 7s 14ms/step - loss: 0.6944 - accuracy: 0.7600 - val_loss: 1.3130 - val_accuracy: 0.5211 - lr: 1.0000e-05\n",
            "Epoch 38/60\n",
            "495/495 [==============================] - 7s 15ms/step - loss: 0.6661 - accuracy: 0.7692 - val_loss: 1.3163 - val_accuracy: 0.5326 - lr: 1.0000e-05\n",
            "Epoch 39/60\n",
            "495/495 [==============================] - 7s 14ms/step - loss: 0.6875 - accuracy: 0.7614 - val_loss: 1.3186 - val_accuracy: 0.5211 - lr: 1.0000e-05\n",
            "Epoch 40/60\n",
            "495/495 [==============================] - 7s 15ms/step - loss: 0.6829 - accuracy: 0.7654 - val_loss: 1.3258 - val_accuracy: 0.5134 - lr: 1.0000e-05\n",
            "Epoch 41/60\n",
            "495/495 [==============================] - 7s 14ms/step - loss: 0.6734 - accuracy: 0.7610 - val_loss: 1.3231 - val_accuracy: 0.5172 - lr: 1.0000e-05\n",
            "Epoch 42/60\n",
            "495/495 [==============================] - 7s 15ms/step - loss: 0.6549 - accuracy: 0.7753 - val_loss: 1.3270 - val_accuracy: 0.5172 - lr: 1.0000e-05\n",
            "Epoch 43/60\n",
            "495/495 [==============================] - 7s 14ms/step - loss: 0.6735 - accuracy: 0.7650 - val_loss: 1.3290 - val_accuracy: 0.5249 - lr: 1.0000e-05\n",
            "Epoch 44/60\n",
            "495/495 [==============================] - 7s 15ms/step - loss: 0.6871 - accuracy: 0.7624 - val_loss: 1.3375 - val_accuracy: 0.5211 - lr: 1.0000e-05\n",
            "Epoch 45/60\n",
            "495/495 [==============================] - 7s 14ms/step - loss: 0.6744 - accuracy: 0.7682 - val_loss: 1.3333 - val_accuracy: 0.5134 - lr: 1.0000e-05\n",
            "Epoch 46/60\n",
            "495/495 [==============================] - 7s 15ms/step - loss: 0.6512 - accuracy: 0.7678 - val_loss: 1.3312 - val_accuracy: 0.5211 - lr: 1.0000e-05\n",
            "Epoch 47/60\n",
            "495/495 [==============================] - 7s 14ms/step - loss: 0.6384 - accuracy: 0.7802 - val_loss: 1.3372 - val_accuracy: 0.5249 - lr: 1.0000e-05\n",
            "Epoch 48/60\n",
            "495/495 [==============================] - 7s 15ms/step - loss: 0.6470 - accuracy: 0.7745 - val_loss: 1.3375 - val_accuracy: 0.5287 - lr: 1.0000e-05\n",
            "Epoch 49/60\n",
            "495/495 [==============================] - 7s 14ms/step - loss: 0.6486 - accuracy: 0.7779 - val_loss: 1.3452 - val_accuracy: 0.5326 - lr: 1.0000e-05\n",
            "Epoch 50/60\n",
            "495/495 [==============================] - 7s 14ms/step - loss: 0.6498 - accuracy: 0.7759 - val_loss: 1.3373 - val_accuracy: 0.5326 - lr: 1.0000e-05\n",
            "Epoch 51/60\n",
            "495/495 [==============================] - 7s 14ms/step - loss: 0.6552 - accuracy: 0.7779 - val_loss: 1.3364 - val_accuracy: 0.5211 - lr: 1.0000e-05\n",
            "Epoch 52/60\n",
            "495/495 [==============================] - 7s 14ms/step - loss: 0.6632 - accuracy: 0.7713 - val_loss: 1.3471 - val_accuracy: 0.5364 - lr: 1.0000e-05\n",
            "Epoch 53/60\n",
            "495/495 [==============================] - 7s 14ms/step - loss: 0.6268 - accuracy: 0.7848 - val_loss: 1.3567 - val_accuracy: 0.5211 - lr: 1.0000e-05\n",
            "Epoch 54/60\n",
            "495/495 [==============================] - 7s 14ms/step - loss: 0.6246 - accuracy: 0.7858 - val_loss: 1.3573 - val_accuracy: 0.5287 - lr: 1.0000e-05\n",
            "Epoch 55/60\n",
            "495/495 [==============================] - 7s 14ms/step - loss: 0.6472 - accuracy: 0.7785 - val_loss: 1.3523 - val_accuracy: 0.5287 - lr: 1.0000e-05\n",
            "Epoch 56/60\n",
            "495/495 [==============================] - 7s 14ms/step - loss: 0.6360 - accuracy: 0.7836 - val_loss: 1.3597 - val_accuracy: 0.5211 - lr: 1.0000e-05\n",
            "Epoch 57/60\n",
            "495/495 [==============================] - 7s 15ms/step - loss: 0.6371 - accuracy: 0.7838 - val_loss: 1.3639 - val_accuracy: 0.5211 - lr: 1.0000e-05\n",
            "Epoch 58/60\n",
            "495/495 [==============================] - 7s 14ms/step - loss: 0.6298 - accuracy: 0.7810 - val_loss: 1.3662 - val_accuracy: 0.5172 - lr: 1.0000e-05\n",
            "Epoch 59/60\n",
            "495/495 [==============================] - 7s 14ms/step - loss: 0.6259 - accuracy: 0.7826 - val_loss: 1.3699 - val_accuracy: 0.5287 - lr: 1.0000e-05\n",
            "Epoch 60/60\n",
            "495/495 [==============================] - 7s 14ms/step - loss: 0.6211 - accuracy: 0.7820 - val_loss: 1.3636 - val_accuracy: 0.5326 - lr: 1.0000e-05\n"
          ]
        },
        {
          "data": {
            "text/plain": [
              "<keras.callbacks.History at 0x7fec3f371030>"
            ]
          },
          "execution_count": 34,
          "metadata": {},
          "output_type": "execute_result"
        }
      ],
      "source": [
        "model_spect.fit(train,label,epochs = 60,validation_data=(X_valid,y_valid), batch_size=10, callbacks = [lr_reduction])"
      ]
    },
    {
      "cell_type": "code",
      "execution_count": null,
      "metadata": {
        "colab": {
          "base_uri": "https://localhost:8080/"
        },
        "id": "x0Wzq5tnN8bh",
        "outputId": "b27663c5-6274-47d7-fabb-21776e302ed5"
      },
      "outputs": [
        {
          "name": "stdout",
          "output_type": "stream",
          "text": [
            "70/70 [==============================] - 1s 15ms/step - loss: 1.2624 - accuracy: 0.5387\n"
          ]
        },
        {
          "data": {
            "text/plain": [
              "[1.2623894214630127, 0.5387371182441711]"
            ]
          },
          "execution_count": 110,
          "metadata": {},
          "output_type": "execute_result"
        }
      ],
      "source": [
        "model_spect.evaluate(X_valid,y_valid)"
      ]
    },
    {
      "cell_type": "code",
      "execution_count": null,
      "metadata": {
        "colab": {
          "background_save": true,
          "base_uri": "https://localhost:8080/"
        },
        "id": "UjsbSTfevWKL",
        "outputId": "2c41ce0d-36f1-4ecf-b6b6-20726e611ccc"
      },
      "outputs": [
        {
          "name": "stdout",
          "output_type": "stream",
          "text": [
            "70/70 [==============================] - 1s 13ms/step - loss: 1.3664 - accuracy: 0.5343\n"
          ]
        },
        {
          "data": {
            "text/plain": [
              "[1.3664135932922363, 0.5342588424682617]"
            ]
          },
          "execution_count": 35,
          "metadata": {},
          "output_type": "execute_result"
        }
      ],
      "source": [
        "model_spect.evaluate(test,label_test)"
      ]
    },
    {
      "cell_type": "code",
      "execution_count": null,
      "metadata": {
        "colab": {
          "base_uri": "https://localhost:8080/"
        },
        "id": "5KZaJ1GJbiPU",
        "outputId": "7fa40b20-29b4-4550-9774-d88dabf52177"
      },
      "outputs": [
        {
          "name": "stdout",
          "output_type": "stream",
          "text": [
            "70/70 [==============================] - 1s 9ms/step\n"
          ]
        },
        {
          "data": {
            "text/plain": [
              "array([[0.02192777, 0.03301914, 0.3914328 , 0.19144718, 0.08892074,\n",
              "        0.27325237],\n",
              "       [0.13536108, 0.2770534 , 0.10666919, 0.33323577, 0.0920431 ,\n",
              "        0.0556375 ],\n",
              "       [0.51672643, 0.04422712, 0.00616111, 0.4281156 , 0.00305318,\n",
              "        0.00171653],\n",
              "       ...,\n",
              "       [0.22950315, 0.03784591, 0.15072945, 0.54691344, 0.01488346,\n",
              "        0.0201246 ],\n",
              "       [0.19219339, 0.04415977, 0.4807249 , 0.2115852 , 0.01909556,\n",
              "        0.05224118],\n",
              "       [0.00311209, 0.16684991, 0.01414717, 0.01145966, 0.03724298,\n",
              "        0.7671882 ]], dtype=float32)"
            ]
          },
          "execution_count": 81,
          "metadata": {},
          "output_type": "execute_result"
        }
      ],
      "source": [
        "y_pred = model_spect.predict(test)\n",
        "y_pred"
      ]
    },
    {
      "cell_type": "code",
      "execution_count": null,
      "metadata": {
        "colab": {
          "base_uri": "https://localhost:8080/"
        },
        "id": "fqAEYoMkcBls",
        "outputId": "9faf414e-5c39-4578-c311-fd8fb4e387eb"
      },
      "outputs": [
        {
          "data": {
            "text/plain": [
              "array([2, 3, 0, ..., 3, 2, 5])"
            ]
          },
          "execution_count": 82,
          "metadata": {},
          "output_type": "execute_result"
        }
      ],
      "source": [
        "y_pred = np.argmax(y_pred, axis=1)\n",
        "y_pred"
      ]
    },
    {
      "cell_type": "code",
      "execution_count": null,
      "metadata": {
        "colab": {
          "base_uri": "https://localhost:8080/"
        },
        "id": "3T0w0hj-cBp6",
        "outputId": "13b480ce-0610-4853-987d-96783d8aa91e"
      },
      "outputs": [
        {
          "data": {
            "text/plain": [
              "array([2, 3, 3, ..., 3, 3, 4])"
            ]
          },
          "execution_count": 83,
          "metadata": {},
          "output_type": "execute_result"
        }
      ],
      "source": [
        "y_check = np.argmax(label_test, axis=1)\n",
        "y_check"
      ]
    },
    {
      "cell_type": "code",
      "execution_count": null,
      "metadata": {
        "id": "zuEoAlGLcsQ4"
      },
      "outputs": [],
      "source": [
        "from sklearn.metrics import confusion_matrix\n",
        "\n",
        "cm = confusion_matrix(y_true=y_check, y_pred=y_pred)"
      ]
    },
    {
      "cell_type": "code",
      "execution_count": null,
      "metadata": {
        "id": "l2Yj7tdCcw4H"
      },
      "outputs": [],
      "source": [
        "def plot_confusion_matrix(cm, classes,\n",
        "                        normalize=False,  #can change to true\n",
        "                        title='Confusion matrix',\n",
        "                        cmap=plt.cm.Blues):\n",
        "\n",
        "    plt.imshow(cm, interpolation='nearest', cmap=cmap)\n",
        "    plt.title(title)\n",
        "    plt.colorbar()\n",
        "    tick_marks = np.arange(len(classes))\n",
        "    plt.xticks(tick_marks, classes, rotation=45)\n",
        "    plt.yticks(tick_marks, classes)\n",
        "\n",
        "    if normalize:\n",
        "        cm = cm.astype('float') / cm.sum(axis=1)[:, np.newaxis]\n",
        "        print(\"Normalized confusion matrix\")\n",
        "    else:\n",
        "        print('Confusion matrix, without normalization')\n",
        "\n",
        "    print(cm)\n",
        "\n",
        "    thresh = cm.max() / 2.\n",
        "    for i, j in itertools.product(range(cm.shape[0]), range(cm.shape[1])):\n",
        "        plt.text(j, i, cm[i, j],\n",
        "            horizontalalignment=\"center\",\n",
        "            color=\"white\" if cm[i, j] > thresh else \"black\")\n",
        "\n",
        "    plt.tight_layout()\n",
        "    plt.ylabel('True label')\n",
        "    plt.xlabel('Predicted label')\n"
      ]
    },
    {
      "cell_type": "code",
      "execution_count": null,
      "metadata": {
        "colab": {
          "base_uri": "https://localhost:8080/",
          "height": 632
        },
        "id": "F4rN1wBTdNhq",
        "outputId": "9f023fe7-b83c-47dd-f65f-fd796b121775"
      },
      "outputs": [
        {
          "name": "stdout",
          "output_type": "stream",
          "text": [
            "Confusion matrix, without normalization\n",
            "[[269  40   6  49  14   4]\n",
            " [ 41 169  36  25  45  65]\n",
            " [ 17  29 187  52  15  82]\n",
            " [ 47  27  73 198  24  12]\n",
            " [  9  27  20  21 209  40]\n",
            " [  1  37  65   9  54 215]]\n"
          ]
        },
        {
          "data": {
            "image/png": "[encoded data removed]",
            "text/plain": [
              "<Figure size 640x480 with 2 Axes>"
            ]
          },
          "metadata": {},
          "output_type": "display_data"
        }
      ],
      "source": [
        "cm_plot_labels = ['angry', 'disgust', 'fear', 'happy', 'neutral', 'sad', 'surprise']\n",
        "plot_confusion_matrix(cm=cm, classes=cm_plot_labels, title='Confusion Matrix')"
      ]
    }
  ],
  "metadata": {
    "accelerator": "GPU",
    "colab": {
      "provenance": []
    },
    "kernelspec": {
      "display_name": "Python 3",
      "name": "python3"
    },
    "language_info": {
      "name": "python"
    }
  },
  "nbformat": 4,
  "nbformat_minor": 0
}